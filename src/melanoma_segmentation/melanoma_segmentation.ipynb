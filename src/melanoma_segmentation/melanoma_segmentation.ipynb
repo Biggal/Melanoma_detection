{
 "cells": [
  {
   "cell_type": "code",
   "execution_count": null,
   "metadata": {},
   "outputs": [],
   "source": [
    "\n"
   ]
  },
  {
   "cell_type": "code",
   "execution_count": null,
   "metadata": {
    "colab": {
     "autoexec": {
      "startup": false,
      "wait_interval": 0
     }
    },
    "colab_type": "code",
    "id": "B7rHGhE8uCwb"
   },
   "outputs": [],
   "source": [
    "def jaccard_distance(y_true, y_pred, smooth=100):\n",
    "    intersection = K.sum(K.abs(y_true * y_pred), axis=-1)\n",
    "    sum_ = K.sum(K.square(y_true), axis = -1) + K.sum(K.square(y_pred), axis=-1)\n",
    "    jac = (intersection + smooth) / (sum_ - intersection + smooth)\n",
    "    return (1 - jac) "
   ]
  },
  {
   "cell_type": "code",
   "execution_count": null,
   "metadata": {
    "colab": {
     "autoexec": {
      "startup": false,
      "wait_interval": 0
     }
    },
    "colab_type": "code",
    "id": "5PYYaGcToEcq"
   },
   "outputs": [],
   "source": [
    "from keras.preprocessing import image\n",
    "from keras.models import Model, Sequential\n",
    "from keras.layers import Activation, Dense, GlobalAveragePooling2D, BatchNormalization, Dropout, Conv2D, Conv2DTranspose, AveragePooling2D, MaxPooling2D, UpSampling2D, Input, Reshape\n",
    "from keras import backend as K\n",
    "from keras.optimizers import Nadam, Adam, SGD\n",
    "from keras.metrics import categorical_accuracy, binary_accuracy\n",
    "#from keras_contrib.losses import jaccard\n",
    "import tensorflow as tf\n",
    "import numpy as np\n",
    "import pandas as pd\n",
    "import glob\n",
    "import PIL\n",
    "from PIL import Image\n",
    "import matplotlib.pyplot as plt\n",
    "%matplotlib inline"
   ]
  },
  {
   "cell_type": "code",
   "execution_count": null,
   "metadata": {
    "colab": {
     "autoexec": {
      "startup": false,
      "wait_interval": 0
     }
    },
    "colab_type": "code",
    "id": "NboSwhqOvlTw"
   },
   "outputs": [],
   "source": [
    "def iou(y_true, y_pred, smooth = 100):\n",
    "    intersection = K.sum(K.abs(y_true * y_pred), axis=-1)\n",
    "    sum_ = K.sum(K.square(y_true), axis = -1) + K.sum(K.square(y_pred), axis=-1)\n",
    "    jac = (intersection + smooth) / (sum_ - intersection + smooth)\n",
    "    return jac"
   ]
  },
  {
   "cell_type": "code",
   "execution_count": null,
   "metadata": {
    "colab": {
     "autoexec": {
      "startup": false,
      "wait_interval": 0
     }
    },
    "colab_type": "code",
    "id": "umQIcnQM-U8y"
   },
   "outputs": [],
   "source": [
    "# To read the images in numerical order\n",
    "import re\n",
    "numbers = re.compile(r'(\\d+)')\n",
    "def numericalSort(value):\n",
    "    parts = numbers.split(value)\n",
    "    parts[1::2] = map(int, parts[1::2])\n",
    "    return parts"
   ]
  },
  {
   "cell_type": "code",
   "execution_count": null,
   "metadata": {
    "colab": {
     "autoexec": {
      "startup": false,
      "wait_interval": 0
     }
    },
    "colab_type": "code",
    "id": "JqPblx6quzaP"
   },
   "outputs": [],
   "source": [
    "# Initializing all the images into 4d arrays.\n",
    "\n",
    "filelist_trainx = sorted(glob.glob('trainx/*.jpg'), key=numericalSort)\n",
    "#filelist_trainx.sort()\n",
    "X_train = np.array([np.array(Image.open(fname)) for fname in filelist_trainx])\n",
    "\n",
    "filelist_trainy = sorted(glob.glob('trainy/*.jpg'), key=numericalSort)\n",
    "#filelist_trainy.sort()\n",
    "Y_train = np.array([np.array(Image.open(fname)) for fname in filelist_trainy])\n",
    "\n",
    "filelist_testx = sorted(glob.glob('testx/*.jpg'), key=numericalSort)\n",
    "#filelist_testx.sort()\n",
    "X_test = np.array([np.array(Image.open(fname)) for fname in filelist_testx])\n",
    "\n",
    "filelist_testy = sorted(glob.glob('testy/*.jpg'), key=numericalSort)\n",
    "#filelist_testy.sort()\n",
    "Y_test = np.array([np.array(Image.open(fname)) for fname in filelist_testy])\n",
    "\n",
    "filelist_valx = sorted(glob.glob('validationx/*.jpg'), key=numericalSort)\n",
    "#filelist_valx.sort()\n",
    "X_val = np.array([np.array(Image.open(fname)) for fname in filelist_valx])\n",
    "\n",
    "filelist_valy = sorted(glob.glob('validationy/*.jpg'), key=numericalSort)\n",
    "#filelist_valy.sort()\n",
    "Y_val = np.array([np.array(Image.open(fname)) for fname in filelist_valy])"
   ]
  },
  {
   "cell_type": "code",
   "execution_count": null,
   "metadata": {
    "colab": {
     "autoexec": {
      "startup": false,
      "wait_interval": 0
     },
     "base_uri": "https://localhost:8080/",
     "height": 393
    },
    "colab_type": "code",
    "executionInfo": {
     "elapsed": 1414,
     "status": "ok",
     "timestamp": 1526788841790,
     "user": {
      "displayName": "Manideep Kolla",
      "photoUrl": "//lh4.googleusercontent.com/-AhklfYPJ2yU/AAAAAAAAAAI/AAAAAAAAMLU/1G-c09ybTmY/s50-c-k-no/photo.jpg",
      "userId": "117392830770812166897"
     },
     "user_tz": -330
    },
    "id": "wfRNBcdtu3Lt",
    "outputId": "2fb029f1-c983-4242-b696-16a0c7d23541"
   },
   "outputs": [],
   "source": [
    "index = 100\n",
    "plt.imshow(Y_val[index])\n",
    "print (\"y = \" + str(np.squeeze(Y_val[:, index])))"
   ]
  },
  {
   "cell_type": "code",
   "execution_count": null,
   "metadata": {
    "colab": {
     "autoexec": {
      "startup": false,
      "wait_interval": 0
     }
    },
    "colab_type": "code",
    "id": "MQk0x9hlu5xL"
   },
   "outputs": [],
   "source": [
    "def UnPooling2x2ZeroFilled(x):\n",
    "    \n",
    "    out = tf.concat([x, tf.zeros_like(x)], 3)\n",
    "    out = tf.concat([out, tf.zeros_like(out)], 2)\n",
    "\n",
    "    sh = x.get_shape().as_list()\n",
    "    if None not in sh[1:]:\n",
    "        out_size = [-1, sh[1] * 2, sh[2] * 2, sh[3]]\n",
    "        return tf.reshape(out, out_size)\n",
    "    else:\n",
    "        shv = tf.shape(x)\n",
    "        ret = tf.reshape(out, tf.stack([-1, shv[1] * 2, shv[2] * 2, sh[3]]))\n",
    "        return ret"
   ]
  },
  {
   "cell_type": "code",
   "execution_count": null,
   "metadata": {
    "colab": {
     "autoexec": {
      "startup": false,
      "wait_interval": 0
     }
    },
    "colab_type": "code",
    "id": "gnSdLXT60fex"
   },
   "outputs": [],
   "source": [
    "# Pipe Line\n",
    "\n",
    "(x_train, y_train), (x_test, y_test), (x_val, y_val) = (X_train, Y_train), (X_test, Y_test), (X_val, Y_val)\n",
    "\n",
    "def model_seg():\n",
    "  \n",
    "  # Convolution Layers (BatchNorm after non-linear activation)\n",
    "  \n",
    "  img_input = Input(shape= (192, 256, 3))\n",
    "  x = Conv2D(16, (3, 3), padding='same', name='conv1')(img_input)\n",
    "  x = BatchNormalization(name='bn1')(x)\n",
    "  x = Activation('relu')(x)\n",
    "  x = Conv2D(32, (3, 3), padding='same', name='conv2')(x)\n",
    "  x = BatchNormalization(name='bn2')(x)\n",
    "  x = Activation('relu')(x)\n",
    "  x = MaxPooling2D()(x)\n",
    "  x = Conv2D(64, (3, 3), padding='same', name='conv3')(x)\n",
    "  x = BatchNormalization(name='bn3')(x)\n",
    "  x = Activation('relu')(x)\n",
    "  x = Conv2D(64, (3, 3), padding='same', name='conv4')(x)\n",
    "  x = BatchNormalization(name='bn4')(x)\n",
    "  x = Activation('relu')(x)\n",
    "  x = MaxPooling2D()(x)\n",
    "  x = Conv2D(128, (3, 3), padding='same', name='conv5')(x)\n",
    "  x = BatchNormalization(name='bn5')(x)\n",
    "  x = Activation('relu')(x)\n",
    "  x = Conv2D(128, (4, 4), padding='same', name='conv6')(x)\n",
    "  x = BatchNormalization(name='bn6')(x)\n",
    "  x = Activation('relu')(x)\n",
    "  x = MaxPooling2D()(x)\n",
    "  x = Conv2D(256, (3, 3), padding='same', name='conv7')(x)\n",
    "  x = BatchNormalization(name='bn7')(x)\n",
    "  x = Dropout(0.5)(x)\n",
    "  x = Activation('relu')(x)\n",
    "  x = Conv2D(256, (3, 3), padding='same', name='conv8')(x)\n",
    "  x = BatchNormalization(name='bn8')(x)\n",
    "  x = Activation('relu')(x)\n",
    "  x = MaxPooling2D()(x)\n",
    "  x = Conv2D(512, (3, 3), padding='same', name='conv9')(x)\n",
    "  x = BatchNormalization(name='bn9')(x)\n",
    "  x = Activation('relu')(x)\n",
    "  x = Dense(1024, activation = 'relu', name='fc1')(x)\n",
    "  x = Dense(1024, activation = 'relu', name='fc2')(x)\n",
    "  \n",
    "  # Deconvolution Layers (BatchNorm after non-linear activation)\n",
    "  \n",
    "  x = Conv2DTranspose(256, (3, 3), padding='same', name='deconv1')(x)\n",
    "  x = BatchNormalization(name='bn19')(x)\n",
    "  x = Activation('relu')(x)\n",
    "  x = UpSampling2D()(x)\n",
    "  x = Conv2DTranspose(256, (3, 3), padding='same', name='deconv2')(x)\n",
    "  x = BatchNormalization(name='bn12')(x)\n",
    "  x = Activation('relu')(x)\n",
    "  x = Conv2DTranspose(128, (3, 3), padding='same', name='deconv3')(x)\n",
    "  x = BatchNormalization(name='bn13')(x)\n",
    "  x = Activation('relu')(x)\n",
    "  x = UpSampling2D()(x)\n",
    "  x = Conv2DTranspose(128, (4, 4), padding='same', name='deconv4')(x)\n",
    "  x = BatchNormalization(name='bn14')(x)\n",
    "  x = Activation('relu')(x)\n",
    "  x = Conv2DTranspose(128, (3, 3), padding='same', name='deconv5')(x)\n",
    "  x = BatchNormalization(name='bn15')(x)\n",
    "  x = Activation('relu')(x)\n",
    "  x = UpSampling2D()(x)\n",
    "  x = Conv2DTranspose(64, (3, 3), padding='same', name='deconv6')(x)\n",
    "  x = BatchNormalization(name='bn16')(x)\n",
    "  x = Activation('relu')(x)\n",
    "  x = Conv2DTranspose(32, (3, 3), padding='same', name='deconv7')(x)\n",
    "  x = BatchNormalization(name='bn20')(x)\n",
    "  x = Activation('relu')(x)\n",
    "  x = UpSampling2D()(x)\n",
    "  x = Conv2DTranspose(16, (3, 3), padding='same', name='deconv8')(x)\n",
    "  x = BatchNormalization(name='bn17')(x)\n",
    "  x = Dropout(0.5)(x)\n",
    "  x = Activation('relu')(x)\n",
    "  x = Conv2DTranspose(1, (3, 3), padding='same', name='deconv9')(x)\n",
    "  x = BatchNormalization(name='bn18')(x)\n",
    "  x = Activation('sigmoid')(x)\n",
    "  pred = Reshape((192,256))(x)\n",
    "  \n",
    "  model = Model(inputs=img_input, outputs=pred)\n",
    "  \n",
    "  model.compile(optimizer= Adam(lr = 0.003), loss= [jaccard_distance], metrics=[iou])\n",
    "  \n",
    "  hist = model.fit(x_train, y_train, epochs= 5, batch_size= 16,validation_data=(x_test, y_test), verbose=1)\n",
    "  \n",
    "  model.save(\"model.h5\")\n",
    "  \n",
    "  accuracy = model.evaluate(x=x_test,y=y_test,batch_size=16)\n",
    "  print(\"Accuracy: \",accuracy[1])"
   ]
  },
  {
   "cell_type": "code",
   "execution_count": null,
   "metadata": {
    "colab": {
     "autoexec": {
      "startup": false,
      "wait_interval": 0
     },
     "base_uri": "https://localhost:8080/",
     "height": 7167
    },
    "colab_type": "code",
    "executionInfo": {
     "elapsed": 14978949,
     "status": "ok",
     "timestamp": 1526771788192,
     "user": {
      "displayName": "Manideep Kolla",
      "photoUrl": "//lh4.googleusercontent.com/-AhklfYPJ2yU/AAAAAAAAAAI/AAAAAAAAMLU/1G-c09ybTmY/s50-c-k-no/photo.jpg",
      "userId": "117392830770812166897"
     },
     "user_tz": -330
    },
    "id": "p6A3nXVqejtK",
    "outputId": "fa12556c-eb27-4aa8-b2d9-3689d4d4964c",
    "scrolled": true
   },
   "outputs": [],
   "source": [
    "model_seg()"
   ]
  },
  {
   "cell_type": "code",
   "execution_count": null,
   "metadata": {
    "colab": {
     "autoexec": {
      "startup": false,
      "wait_interval": 0
     },
     "base_uri": "https://localhost:8080/",
     "height": 70
    },
    "colab_type": "code",
    "executionInfo": {
     "elapsed": 9438,
     "status": "ok",
     "timestamp": 1526798149909,
     "user": {
      "displayName": "Manideep Kolla",
      "photoUrl": "//lh4.googleusercontent.com/-AhklfYPJ2yU/AAAAAAAAAAI/AAAAAAAAMLU/1G-c09ybTmY/s50-c-k-no/photo.jpg",
      "userId": "117392830770812166897"
     },
     "user_tz": -330
    },
    "id": "s3ZCJatJekS8",
    "outputId": "96330358-cf48-48b9-8e9d-b28ed08d927f"
   },
   "outputs": [],
   "source": [
    "  (x_train, y_train), (x_test, y_test), (x_val, y_val) = (X_train, Y_train), (X_test, Y_test), (X_val, Y_val)\n",
    "  # Convolution Layers (BatchNorm after non-linear activation)\n",
    "  \n",
    "  img_input = Input(shape= (192, 256, 3))\n",
    "  x = Conv2D(16, (3, 3), padding='same', name='conv1')(img_input)\n",
    "  x = BatchNormalization(name='bn1')(x)\n",
    "  x = Activation('relu')(x)\n",
    "  x = Conv2D(32, (3, 3), padding='same', name='conv2')(x)\n",
    "  x = BatchNormalization(name='bn2')(x)\n",
    "  x = Activation('relu')(x)\n",
    "  x = MaxPooling2D()(x)\n",
    "  x = Conv2D(64, (3, 3), padding='same', name='conv3')(x)\n",
    "  x = BatchNormalization(name='bn3')(x)\n",
    "  x = Activation('relu')(x)\n",
    "  x = Conv2D(64, (3, 3), padding='same', name='conv4')(x)\n",
    "  x = BatchNormalization(name='bn4')(x)\n",
    "  x = Activation('relu')(x)\n",
    "  x = MaxPooling2D()(x)\n",
    "  x = Conv2D(128, (3, 3), padding='same', name='conv5')(x)\n",
    "  x = BatchNormalization(name='bn5')(x)\n",
    "  x = Activation('relu')(x)\n",
    "  x = Conv2D(128, (4, 4), padding='same', name='conv6')(x)\n",
    "  x = BatchNormalization(name='bn6')(x)\n",
    "  x = Activation('relu')(x)\n",
    "  x = MaxPooling2D()(x)\n",
    "  x = Conv2D(256, (3, 3), padding='same', name='conv7')(x)\n",
    "  x = BatchNormalization(name='bn7')(x)\n",
    "  x = Dropout(0.5)(x)\n",
    "  x = Activation('relu')(x)\n",
    "  x = Conv2D(256, (3, 3), padding='same', name='conv8')(x)\n",
    "  x = BatchNormalization(name='bn8')(x)\n",
    "  x = Activation('relu')(x)\n",
    "  x = MaxPooling2D()(x)\n",
    "  x = Conv2D(512, (3, 3), padding='same', name='conv9')(x)\n",
    "  x = BatchNormalization(name='bn9')(x)\n",
    "  x = Activation('relu')(x)\n",
    "  x = Dense(1024, activation = 'relu', name='fc1')(x)\n",
    "  x = Dense(1024, activation = 'relu', name='fc2')(x)\n",
    "  \n",
    "  # Deconvolution Layers (BatchNorm after non-linear activation)\n",
    "  \n",
    "  x = Conv2DTranspose(256, (3, 3), padding='same', name='deconv1')(x)\n",
    "  x = BatchNormalization(name='bn19')(x)\n",
    "  x = Activation('relu')(x)\n",
    "  x = UpSampling2D()(x)\n",
    "  x = Conv2DTranspose(256, (3, 3), padding='same', name='deconv2')(x)\n",
    "  x = BatchNormalization(name='bn12')(x)\n",
    "  x = Activation('relu')(x)\n",
    "  x = Conv2DTranspose(128, (3, 3), padding='same', name='deconv3')(x)\n",
    "  x = BatchNormalization(name='bn13')(x)\n",
    "  x = Activation('relu')(x)\n",
    "  x = UpSampling2D()(x)\n",
    "  x = Conv2DTranspose(128, (4, 4), padding='same', name='deconv4')(x)\n",
    "  x = BatchNormalization(name='bn14')(x)\n",
    "  x = Activation('relu')(x)\n",
    "  x = Conv2DTranspose(128, (3, 3), padding='same', name='deconv5')(x)\n",
    "  x = BatchNormalization(name='bn15')(x)\n",
    "  x = Activation('relu')(x)\n",
    "  x = UpSampling2D()(x)\n",
    "  x = Conv2DTranspose(64, (3, 3), padding='same', name='deconv6')(x)\n",
    "  x = BatchNormalization(name='bn16')(x)\n",
    "  x = Activation('relu')(x)\n",
    "  x = Conv2DTranspose(32, (3, 3), padding='same', name='deconv7')(x)\n",
    "  x = BatchNormalization(name='bn20')(x)\n",
    "  x = Activation('relu')(x)\n",
    "  x = UpSampling2D()(x)\n",
    "  x = Conv2DTranspose(16, (3, 3), padding='same', name='deconv8')(x)\n",
    "  x = BatchNormalization(name='bn17')(x)\n",
    "  x = Dropout(0.5)(x)\n",
    "  x = Activation('relu')(x)\n",
    "  x = Conv2DTranspose(1, (3, 3), padding='same', name='deconv9')(x)\n",
    "  x = BatchNormalization(name='bn18')(x)\n",
    "  x = Activation('sigmoid')(x)\n",
    "  pred = Reshape((192,256))(x)\n",
    "  \n",
    "  model = Model(inputs=img_input, outputs=pred)\n",
    "  \n",
    "  model.compile(optimizer= Adam(lr = 0.003), loss= [jaccard_distance], metrics=[iou])\n",
    "  model.load_weights(\"model.h5\")\n",
    "  predictions_valid = model.predict(x_val, batch_size=16, verbose=1)\n",
    "  accuracy = model.evaluate(x=x_val,y=y_val,batch_size=16)\n",
    "  print(\"Accuracy: \",accuracy[1])"
   ]
  },
  {
   "cell_type": "code",
   "execution_count": null,
   "metadata": {
    "colab": {
     "autoexec": {
      "startup": false,
      "wait_interval": 0
     }
    },
    "colab_type": "code",
    "id": "3iO1w1gdcNXR"
   },
   "outputs": [],
   "source": [
    "index = 45\n",
    "predict_input = x_val[index]\n",
    "ground_truth = y_val[index]"
   ]
  },
  {
   "cell_type": "code",
   "execution_count": null,
   "metadata": {
    "colab": {
     "autoexec": {
      "startup": false,
      "wait_interval": 0
     }
    },
    "colab_type": "code",
    "id": "D1F3mjdab6nP"
   },
   "outputs": [],
   "source": [
    "predictions =model.predict(predict_input.reshape(1,192,256,3), batch_size=1)\n",
    "prediction = predictions.reshape(192, 256)"
   ]
  },
  {
   "cell_type": "code",
   "execution_count": null,
   "metadata": {
    "colab": {
     "autoexec": {
      "startup": false,
      "wait_interval": 0
     },
     "base_uri": "https://localhost:8080/",
     "height": 561
    },
    "colab_type": "code",
    "executionInfo": {
     "elapsed": 1307,
     "status": "ok",
     "timestamp": 1526801717813,
     "user": {
      "displayName": "Manideep Kolla",
      "photoUrl": "//lh4.googleusercontent.com/-AhklfYPJ2yU/AAAAAAAAAAI/AAAAAAAAMLU/1G-c09ybTmY/s50-c-k-no/photo.jpg",
      "userId": "117392830770812166897"
     },
     "user_tz": -330
    },
    "id": "AuEYLNmoSlYc",
    "outputId": "f55716cb-0b99-4012-b6cf-4c9c7ae3f85e"
   },
   "outputs": [],
   "source": [
    "#index = 45\n",
    "plt.figure()\n",
    "plt.imshow(prediction)\n",
    "plt.title('Predicted')\n",
    "plt.figure()\n",
    "plt.imshow(ground_truth)\n",
    "plt.title('Ground Turth')"
   ]
  },
  {
   "cell_type": "code",
   "execution_count": null,
   "metadata": {
    "colab": {
     "autoexec": {
      "startup": false,
      "wait_interval": 0
     }
    },
    "colab_type": "code",
    "id": "6EFLQ9oOzKua"
   },
   "outputs": [],
   "source": []
  }
 ],
 "metadata": {
  "accelerator": "GPU",
  "colab": {
   "collapsed_sections": [],
   "default_view": {},
   "name": "melanoma_segmentation1.ipynb",
   "provenance": [],
   "version": "0.3.2",
   "views": {}
  },
  "kernelspec": {
   "display_name": "Python 3",
   "language": "python",
   "name": "python3"
  },
  "language_info": {
   "codemirror_mode": {
    "name": "ipython",
    "version": 3
   },
   "file_extension": ".py",
   "mimetype": "text/x-python",
   "name": "python",
   "nbconvert_exporter": "python",
   "pygments_lexer": "ipython3",
   "version": "3.6.8"
  }
 },
 "nbformat": 4,
 "nbformat_minor": 1
}
