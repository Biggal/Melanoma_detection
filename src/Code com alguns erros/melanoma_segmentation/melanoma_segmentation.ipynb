{
 "cells": [
  {
   "cell_type": "code",
   "execution_count": null,
   "metadata": {},
   "outputs": [],
   "source": [
    "\n"
   ]
  },
  {
   "cell_type": "code",
   "execution_count": 1,
   "metadata": {
    "colab": {
     "autoexec": {
      "startup": false,
      "wait_interval": 0
     }
    },
    "colab_type": "code",
    "id": "B7rHGhE8uCwb"
   },
   "outputs": [],
   "source": [
    "def jaccard_distance(y_true, y_pred, smooth=100):\n",
    "    intersection = K.sum(K.abs(y_true * y_pred), axis=-1)\n",
    "    sum_ = K.sum(K.square(y_true), axis = -1) + K.sum(K.square(y_pred), axis=-1)\n",
    "    jac = (intersection + smooth) / (sum_ - intersection + smooth)\n",
    "    return (1 - jac) "
   ]
  },
  {
   "cell_type": "code",
   "execution_count": 70,
   "metadata": {
    "colab": {
     "autoexec": {
      "startup": false,
      "wait_interval": 0
     }
    },
    "colab_type": "code",
    "id": "5PYYaGcToEcq"
   },
   "outputs": [],
   "source": [
    "from keras.preprocessing import image\n",
    "from keras.models import Model, Sequential\n",
    "from keras.layers import Activation, Dense, GlobalAveragePooling2D, BatchNormalization, Dropout, Conv2D, Conv2DTranspose, AveragePooling2D, MaxPooling2D, UpSampling2D, Input, Reshape\n",
    "from keras import backend as K\n",
    "from keras.optimizers import Nadam, Adam, SGD\n",
    "from keras.metrics import categorical_accuracy, binary_accuracy\n",
    "from keras.utils import plot_model\n",
    "from keras.callbacks import Callback\n",
    "#from sklearn.model_selection import train_test_split,\n",
    "#KFold, GridSearchCV\n",
    "#from sklearn.metrics import confusion_matrix, \n",
    "#classification_report, accuracy_score\n",
    "from keras.wrappers import scikit_learn\n",
    "from keras.utils import to_categorical\n",
    "from keras.callbacks import TensorBoard\n",
    "#from keras.utils import model_to_dot\n",
    "#from keras_contrib.losses import jaccard\n",
    "import tensorflow as tf\n",
    "import numpy as np\n",
    "import pandas as pd\n",
    "import glob\n",
    "import PIL\n",
    "from PIL import Image\n",
    "import matplotlib.pyplot as plt\n",
    "%matplotlib inline\n",
    "%config InlineBackend.figure_format = 'jpeg'\n",
    "seed = 2000"
   ]
  },
  {
   "cell_type": "code",
   "execution_count": 43,
   "metadata": {},
   "outputs": [],
   "source": [
    "def plot_history(history):\n",
    "    loss_list = [s for s in history.history.keys() if 'loss' in s and 'val' not in s]\n",
    "    val_loss_list = [s for s in history.history.keys() if 'loss' in s and 'val' in s]\n",
    "    acc_list = [s for s in history.history.keys() if 'acc' in s and 'val' not in s]\n",
    "    val_acc_list = [s for s in history.history.keys() if 'acc' in s and 'val' in s]\n",
    "    \n",
    "    if len(loss_list) == 0:\n",
    "        print('Loss is missing in history')\n",
    "        return \n",
    "   "
   ]
  },
  {
   "cell_type": "code",
   "execution_count": 15,
   "metadata": {
    "colab": {
     "autoexec": {
      "startup": false,
      "wait_interval": 0
     }
    },
    "colab_type": "code",
    "id": "NboSwhqOvlTw"
   },
   "outputs": [],
   "source": [
    "def iou(y_true, y_pred, smooth = 100):\n",
    "    intersection = K.sum(K.abs(y_true * y_pred), axis=-1)\n",
    "    sum_ = K.sum(K.square(y_true), axis = -1) + K.sum(K.square(y_pred), axis=-1)\n",
    "    jac = (intersection + smooth) / (sum_ - intersection + smooth)\n",
    "    return jac"
   ]
  },
  {
   "cell_type": "code",
   "execution_count": 16,
   "metadata": {
    "colab": {
     "autoexec": {
      "startup": false,
      "wait_interval": 0
     }
    },
    "colab_type": "code",
    "id": "umQIcnQM-U8y"
   },
   "outputs": [],
   "source": [
    "# To read the images in numerical order\n",
    "import re\n",
    "numbers = re.compile(r'(\\d+)')\n",
    "def numericalSort(value):\n",
    "    parts = numbers.split(value)\n",
    "    parts[1::2] = map(int, parts[1::2])\n",
    "    return parts"
   ]
  },
  {
   "cell_type": "code",
   "execution_count": 17,
   "metadata": {
    "colab": {
     "autoexec": {
      "startup": false,
      "wait_interval": 0
     }
    },
    "colab_type": "code",
    "id": "JqPblx6quzaP"
   },
   "outputs": [],
   "source": [
    "# Initializing all the images into 4d arrays.\n",
    "\n",
    "filelist_trainx = sorted(glob.glob('trainx/*.jpg'), key=numericalSort)\n",
    "#filelist_trainx.sort()\n",
    "X_train = np.array([np.array(Image.open(fname)) for fname in filelist_trainx])\n",
    "\n",
    "filelist_trainy = sorted(glob.glob('trainy/*.jpg'), key=numericalSort)\n",
    "#filelist_trainy.sort()\n",
    "Y_train = np.array([np.array(Image.open(fname)) for fname in filelist_trainy])\n",
    "\n",
    "filelist_testx = sorted(glob.glob('testx/*.jpg'), key=numericalSort)\n",
    "#filelist_testx.sort()\n",
    "X_test = np.array([np.array(Image.open(fname)) for fname in filelist_testx])\n",
    "\n",
    "filelist_testy = sorted(glob.glob('testy/*.jpg'), key=numericalSort)\n",
    "#filelist_testy.sort()\n",
    "Y_test = np.array([np.array(Image.open(fname)) for fname in filelist_testy])\n",
    "\n",
    "filelist_valx = sorted(glob.glob('validationx/*.jpg'), key=numericalSort)\n",
    "#filelist_valx.sort()\n",
    "X_val = np.array([np.array(Image.open(fname)) for fname in filelist_valx])\n",
    "\n",
    "filelist_valy = sorted(glob.glob('validationy/*.jpg'), key=numericalSort)\n",
    "#filelist_valy.sort()\n",
    "Y_val = np.array([np.array(Image.open(fname)) for fname in filelist_valy])"
   ]
  },
  {
   "cell_type": "code",
   "execution_count": 18,
   "metadata": {
    "colab": {
     "autoexec": {
      "startup": false,
      "wait_interval": 0
     },
     "base_uri": "https://localhost:8080/",
     "height": 393
    },
    "colab_type": "code",
    "executionInfo": {
     "elapsed": 1414,
     "status": "ok",
     "timestamp": 1526788841790,
     "user": {
      "displayName": "Manideep Kolla",
      "photoUrl": "//lh4.googleusercontent.com/-AhklfYPJ2yU/AAAAAAAAAAI/AAAAAAAAMLU/1G-c09ybTmY/s50-c-k-no/photo.jpg",
      "userId": "117392830770812166897"
     },
     "user_tz": -330
    },
    "id": "wfRNBcdtu3Lt",
    "outputId": "2fb029f1-c983-4242-b696-16a0c7d23541"
   },
   "outputs": [
    {
     "name": "stdout",
     "output_type": "stream",
     "text": [
      "y = [[0 0 0 ... 0 0 0]\n",
      " [0 0 0 ... 0 0 0]\n",
      " [0 0 0 ... 0 0 0]\n",
      " ...\n",
      " [0 0 0 ... 0 0 0]\n",
      " [0 0 0 ... 0 0 0]\n",
      " [0 0 0 ... 0 0 0]]\n"
     ]
    },
    {
     "data": {
      "image/jpeg": "[encoded data removed]",
      "text/plain": [
       "<Figure size 432x288 with 1 Axes>"
      ]
     },
     "metadata": {
      "needs_background": "light"
     },
     "output_type": "display_data"
    }
   ],
   "source": [
    "index = 100\n",
    "plt.imshow(Y_val[index])\n",
    "print (\"y = \" + str(np.squeeze(Y_val[:, index])))"
   ]
  },
  {
   "cell_type": "code",
   "execution_count": 19,
   "metadata": {
    "colab": {
     "autoexec": {
      "startup": false,
      "wait_interval": 0
     }
    },
    "colab_type": "code",
    "id": "MQk0x9hlu5xL"
   },
   "outputs": [],
   "source": [
    "def UnPooling2x2ZeroFilled(x):\n",
    "    \n",
    "    out = tf.concat([x, tf.zeros_like(x)], 3)\n",
    "    out = tf.concat([out, tf.zeros_like(out)], 2)\n",
    "\n",
    "    sh = x.get_shape().as_list()\n",
    "    if None not in sh[1:]:\n",
    "        out_size = [-1, sh[1] * 2, sh[2] * 2, sh[3]]\n",
    "        return tf.reshape(out, out_size)\n",
    "    else:\n",
    "        shv = tf.shape(x)\n",
    "        ret = tf.reshape(out, tf.stack([-1, shv[1] * 2, shv[2] * 2, sh[3]]))\n",
    "        return ret"
   ]
  },
  {
   "cell_type": "code",
   "execution_count": 9,
   "metadata": {
    "colab": {
     "autoexec": {
      "startup": false,
      "wait_interval": 0
     }
    },
    "colab_type": "code",
    "id": "gnSdLXT60fex"
   },
   "outputs": [],
   "source": [
    "# Pipe Line\n",
    "\n",
    "(x_train, y_train), (x_test, y_test), (x_val, y_val) = (X_train, Y_train), (X_test, Y_test), (X_val, Y_val)\n",
    "\n",
    "def model_seg():\n",
    "  \n",
    "  # Convolution Layers (BatchNorm after non-linear activation)\n",
    "  \n",
    "  img_input = Input(shape= (192, 256, 3))\n",
    "  x = Conv2D(16, (3, 3), padding='same', name='conv1')(img_input)\n",
    "  x = BatchNormalization(name='bn1')(x)\n",
    "  x = Activation('relu')(x)\n",
    "  x = Conv2D(32, (3, 3), padding='same', name='conv2')(x)\n",
    "  x = BatchNormalization(name='bn2')(x)\n",
    "  x = Activation('relu')(x)\n",
    "  x = MaxPooling2D()(x)\n",
    "  x = Conv2D(64, (3, 3), padding='same', name='conv3')(x)\n",
    "  x = BatchNormalization(name='bn3')(x)\n",
    "  x = Activation('relu')(x)\n",
    "  x = Conv2D(64, (3, 3), padding='same', name='conv4')(x)\n",
    "  x = BatchNormalization(name='bn4')(x)\n",
    "  x = Activation('relu')(x)\n",
    "  x = MaxPooling2D()(x)\n",
    "  x = Conv2D(128, (3, 3), padding='same', name='conv5')(x)\n",
    "  x = BatchNormalization(name='bn5')(x)\n",
    "  x = Activation('relu')(x)\n",
    "  x = Conv2D(128, (4, 4), padding='same', name='conv6')(x)\n",
    "  x = BatchNormalization(name='bn6')(x)\n",
    "  x = Activation('relu')(x)\n",
    "  x = MaxPooling2D()(x)\n",
    "  x = Conv2D(256, (3, 3), padding='same', name='conv7')(x)\n",
    "  x = BatchNormalization(name='bn7')(x)\n",
    "  x = Dropout(0.5)(x)\n",
    "  x = Activation('relu')(x)\n",
    "  x = Conv2D(256, (3, 3), padding='same', name='conv8')(x)\n",
    "  x = BatchNormalization(name='bn8')(x)\n",
    "  x = Activation('relu')(x)\n",
    "  x = MaxPooling2D()(x)\n",
    "  x = Conv2D(512, (3, 3), padding='same', name='conv9')(x)\n",
    "  x = BatchNormalization(name='bn9')(x)\n",
    "  x = Activation('relu')(x)\n",
    "  x = Dense(1024, activation = 'relu', name='fc1')(x)\n",
    "  x = Dense(1024, activation = 'relu', name='fc2')(x)\n",
    "  \n",
    "  # Deconvolution Layers (BatchNorm after non-linear activation)\n",
    "  \n",
    "  x = Conv2DTranspose(256, (3, 3), padding='same', name='deconv1')(x)\n",
    "  x = BatchNormalization(name='bn19')(x)\n",
    "  x = Activation('relu')(x)\n",
    "  x = UpSampling2D()(x)\n",
    "  x = Conv2DTranspose(256, (3, 3), padding='same', name='deconv2')(x)\n",
    "  x = BatchNormalization(name='bn12')(x)\n",
    "  x = Activation('relu')(x)\n",
    "  x = Conv2DTranspose(128, (3, 3), padding='same', name='deconv3')(x)\n",
    "  x = BatchNormalization(name='bn13')(x)\n",
    "  x = Activation('relu')(x)\n",
    "  x = UpSampling2D()(x)\n",
    "  x = Conv2DTranspose(128, (4, 4), padding='same', name='deconv4')(x)\n",
    "  x = BatchNormalization(name='bn14')(x)\n",
    "  x = Activation('relu')(x)\n",
    "  x = Conv2DTranspose(128, (3, 3), padding='same', name='deconv5')(x)\n",
    "  x = BatchNormalization(name='bn15')(x)\n",
    "  x = Activation('relu')(x)\n",
    "  x = UpSampling2D()(x)\n",
    "  x = Conv2DTranspose(64, (3, 3), padding='same', name='deconv6')(x)\n",
    "  x = BatchNormalization(name='bn16')(x)\n",
    "  x = Activation('relu')(x)\n",
    "  x = Conv2DTranspose(32, (3, 3), padding='same', name='deconv7')(x)\n",
    "  x = BatchNormalization(name='bn20')(x)\n",
    "  x = Activation('relu')(x)\n",
    "  x = UpSampling2D()(x)\n",
    "  x = Conv2DTranspose(16, (3, 3), padding='same', name='deconv8')(x)\n",
    "  x = BatchNormalization(name='bn17')(x)\n",
    "  x = Dropout(0.5)(x)\n",
    "  x = Activation('relu')(x)\n",
    "  x = Conv2DTranspose(1, (3, 3), padding='same', name='deconv9')(x)\n",
    "  x = BatchNormalization(name='bn18')(x)\n",
    "  x = Activation('sigmoid')(x)\n",
    "  pred = Reshape((192,256))(x)\n",
    "  \n",
    "  model = Model(inputs=img_input, outputs=pred)\n",
    "  \n",
    "  model.compile(optimizer= Adam(lr = 0.003), loss= [jaccard_distance], metrics=[iou])\n",
    "  \n",
    "  hist = model.fit(x_train, y_train, epochs= 1, batch_size= 16,validation_data=(x_test, y_test), verbose=1)\n",
    "  \n",
    "  model.save(\"model.h5\")\n",
    "  \n",
    "  accuracy = model.evaluate(x=x_test,y=y_test,batch_size=16)\n",
    "  print(\"Accuracy: \",accuracy[1])"
   ]
  },
  {
   "cell_type": "code",
   "execution_count": 10,
   "metadata": {
    "colab": {
     "autoexec": {
      "startup": false,
      "wait_interval": 0
     },
     "base_uri": "https://localhost:8080/",
     "height": 7167
    },
    "colab_type": "code",
    "executionInfo": {
     "elapsed": 14978949,
     "status": "ok",
     "timestamp": 1526771788192,
     "user": {
      "displayName": "Manideep Kolla",
      "photoUrl": "//lh4.googleusercontent.com/-AhklfYPJ2yU/AAAAAAAAAAI/AAAAAAAAMLU/1G-c09ybTmY/s50-c-k-no/photo.jpg",
      "userId": "117392830770812166897"
     },
     "user_tz": -330
    },
    "id": "p6A3nXVqejtK",
    "outputId": "fa12556c-eb27-4aa8-b2d9-3689d4d4964c",
    "scrolled": true
   },
   "outputs": [
    {
     "name": "stdout",
     "output_type": "stream",
     "text": [
      "WARNING:tensorflow:From C:\\Users\\Abigail Musa Gindaus\\AnaConda\\envs\\PythonGPU\\lib\\site-packages\\tensorflow\\python\\framework\\op_def_library.py:263: colocate_with (from tensorflow.python.framework.ops) is deprecated and will be removed in a future version.\n",
      "Instructions for updating:\n",
      "Colocations handled automatically by placer.\n",
      "WARNING:tensorflow:From C:\\Users\\Abigail Musa Gindaus\\AnaConda\\envs\\PythonGPU\\lib\\site-packages\\keras\\backend\\tensorflow_backend.py:3445: calling dropout (from tensorflow.python.ops.nn_ops) with keep_prob is deprecated and will be removed in a future version.\n",
      "Instructions for updating:\n",
      "Please use `rate` instead of `keep_prob`. Rate should be set to `rate = 1 - keep_prob`.\n",
      "WARNING:tensorflow:From C:\\Users\\Abigail Musa Gindaus\\AnaConda\\envs\\PythonGPU\\lib\\site-packages\\tensorflow\\python\\ops\\math_ops.py:3066: to_int32 (from tensorflow.python.ops.math_ops) is deprecated and will be removed in a future version.\n",
      "Instructions for updating:\n",
      "Use tf.cast instead.\n",
      "Train on 2000 samples, validate on 600 samples\n",
      "Epoch 1/1\n",
      "2000/2000 [==============================] - 11722s 6s/step - loss: 0.6315 - iou: 0.3685 - val_loss: 0.7089 - val_iou: 0.2911\n",
      "600/600 [==============================] - 552s 919ms/step\n",
      "Accuracy:  0.2910840825239817\n"
     ]
    }
   ],
   "source": [
    "model_seg()"
   ]
  },
  {
   "cell_type": "code",
   "execution_count": 11,
   "metadata": {
    "colab": {
     "autoexec": {
      "startup": false,
      "wait_interval": 0
     },
     "base_uri": "https://localhost:8080/",
     "height": 70
    },
    "colab_type": "code",
    "executionInfo": {
     "elapsed": 9438,
     "status": "ok",
     "timestamp": 1526798149909,
     "user": {
      "displayName": "Manideep Kolla",
      "photoUrl": "//lh4.googleusercontent.com/-AhklfYPJ2yU/AAAAAAAAAAI/AAAAAAAAMLU/1G-c09ybTmY/s50-c-k-no/photo.jpg",
      "userId": "117392830770812166897"
     },
     "user_tz": -330
    },
    "id": "s3ZCJatJekS8",
    "outputId": "96330358-cf48-48b9-8e9d-b28ed08d927f"
   },
   "outputs": [
    {
     "name": "stdout",
     "output_type": "stream",
     "text": [
      "150/150 [==============================] - 167s 1s/step\n",
      "150/150 [==============================] - 168s 1s/step\n",
      "Accuracy:  0.36829888383547466\n"
     ]
    }
   ],
   "source": [
    "  (x_train, y_train), (x_test, y_test), (x_val, y_val) = (X_train, Y_train), (X_test, Y_test), (X_val, Y_val)\n",
    "  # Convolution Layers (BatchNorm after non-linear activation)\n",
    "  \n",
    "  img_input = Input(shape= (192, 256, 3))\n",
    "  x = Conv2D(16, (3, 3), padding='same', name='conv1')(img_input)\n",
    "  x = BatchNormalization(name='bn1')(x)\n",
    "  x = Activation('relu')(x)\n",
    "  x = Conv2D(32, (3, 3), padding='same', name='conv2')(x)\n",
    "  x = BatchNormalization(name='bn2')(x)\n",
    "  x = Activation('relu')(x)\n",
    "  x = MaxPooling2D()(x)\n",
    "  x = Conv2D(64, (3, 3), padding='same', name='conv3')(x)\n",
    "  x = BatchNormalization(name='bn3')(x)\n",
    "  x = Activation('relu')(x)\n",
    "  x = Conv2D(64, (3, 3), padding='same', name='conv4')(x)\n",
    "  x = BatchNormalization(name='bn4')(x)\n",
    "  x = Activation('relu')(x)\n",
    "  x = MaxPooling2D()(x)\n",
    "  x = Conv2D(128, (3, 3), padding='same', name='conv5')(x)\n",
    "  x = BatchNormalization(name='bn5')(x)\n",
    "  x = Activation('relu')(x)\n",
    "  x = Conv2D(128, (4, 4), padding='same', name='conv6')(x)\n",
    "  x = BatchNormalization(name='bn6')(x)\n",
    "  x = Activation('relu')(x)\n",
    "  x = MaxPooling2D()(x)\n",
    "  x = Conv2D(256, (3, 3), padding='same', name='conv7')(x)\n",
    "  x = BatchNormalization(name='bn7')(x)\n",
    "  x = Dropout(0.5)(x)\n",
    "  x = Activation('relu')(x)\n",
    "  x = Conv2D(256, (3, 3), padding='same', name='conv8')(x)\n",
    "  x = BatchNormalization(name='bn8')(x)\n",
    "  x = Activation('relu')(x)\n",
    "  x = MaxPooling2D()(x)\n",
    "  x = Conv2D(512, (3, 3), padding='same', name='conv9')(x)\n",
    "  x = BatchNormalization(name='bn9')(x)\n",
    "  x = Activation('relu')(x)\n",
    "  x = Dense(1024, activation = 'relu', name='fc1')(x)\n",
    "  x = Dense(1024, activation = 'relu', name='fc2')(x)\n",
    "  \n",
    "  # Deconvolution Layers (BatchNorm after non-linear activation)\n",
    "  \n",
    "  x = Conv2DTranspose(256, (3, 3), padding='same', name='deconv1')(x)\n",
    "  x = BatchNormalization(name='bn19')(x)\n",
    "  x = Activation('relu')(x)\n",
    "  x = UpSampling2D()(x)\n",
    "  x = Conv2DTranspose(256, (3, 3), padding='same', name='deconv2')(x)\n",
    "  x = BatchNormalization(name='bn12')(x)\n",
    "  x = Activation('relu')(x)\n",
    "  x = Conv2DTranspose(128, (3, 3), padding='same', name='deconv3')(x)\n",
    "  x = BatchNormalization(name='bn13')(x)\n",
    "  x = Activation('relu')(x)\n",
    "  x = UpSampling2D()(x)\n",
    "  x = Conv2DTranspose(128, (4, 4), padding='same', name='deconv4')(x)\n",
    "  x = BatchNormalization(name='bn14')(x)\n",
    "  x = Activation('relu')(x)\n",
    "  x = Conv2DTranspose(128, (3, 3), padding='same', name='deconv5')(x)\n",
    "  x = BatchNormalization(name='bn15')(x)\n",
    "  x = Activation('relu')(x)\n",
    "  x = UpSampling2D()(x)\n",
    "  x = Conv2DTranspose(64, (3, 3), padding='same', name='deconv6')(x)\n",
    "  x = BatchNormalization(name='bn16')(x)\n",
    "  x = Activation('relu')(x)\n",
    "  x = Conv2DTranspose(32, (3, 3), padding='same', name='deconv7')(x)\n",
    "  x = BatchNormalization(name='bn20')(x)\n",
    "  x = Activation('relu')(x)\n",
    "  x = UpSampling2D()(x)\n",
    "  x = Conv2DTranspose(16, (3, 3), padding='same', name='deconv8')(x)\n",
    "  x = BatchNormalization(name='bn17')(x)\n",
    "  x = Dropout(0.5)(x)\n",
    "  x = Activation('relu')(x)\n",
    "  x = Conv2DTranspose(1, (3, 3), padding='same', name='deconv9')(x)\n",
    "  x = BatchNormalization(name='bn18')(x)\n",
    "  x = Activation('sigmoid')(x)\n",
    "  pred = Reshape((192,256))(x)\n",
    "  \n",
    "  model = Model(inputs=img_input, outputs=pred)\n",
    "  \n",
    "  model.compile(optimizer= Adam(lr = 0.003), loss= [jaccard_distance], metrics=[iou])\n",
    "  model.load_weights(\"model.h5\")\n",
    "  predictions_valid = model.predict(x_val, batch_size=16, verbose=1)\n",
    "  accuracy = model.evaluate(x=x_val,y=y_val,batch_size=16)\n",
    "  print(\"Accuracy: \",accuracy[1])"
   ]
  },
  {
   "cell_type": "code",
   "execution_count": 87,
   "metadata": {},
   "outputs": [
    {
     "ename": "NameError",
     "evalue": "name 'history' is not defined",
     "output_type": "error",
     "traceback": [
      "\u001b[1;31m---------------------------------------------------------------------------\u001b[0m",
      "\u001b[1;31mNameError\u001b[0m                                 Traceback (most recent call last)",
      "\u001b[1;32m<ipython-input-87-2cf225ebcfd6>\u001b[0m in \u001b[0;36m<module>\u001b[1;34m\u001b[0m\n\u001b[0;32m     37\u001b[0m    \u001b[0mplt\u001b[0m\u001b[1;33m.\u001b[0m\u001b[0mlegend\u001b[0m\u001b[1;33m(\u001b[0m\u001b[1;33m)\u001b[0m\u001b[1;33m\u001b[0m\u001b[1;33m\u001b[0m\u001b[0m\n\u001b[0;32m     38\u001b[0m    \u001b[0mplt\u001b[0m\u001b[1;33m.\u001b[0m\u001b[0mshow\u001b[0m\u001b[1;33m(\u001b[0m\u001b[1;33m)\u001b[0m\u001b[1;33m\u001b[0m\u001b[1;33m\u001b[0m\u001b[0m\n\u001b[1;32m---> 39\u001b[1;33m \u001b[0mplot_history\u001b[0m\u001b[1;33m(\u001b[0m\u001b[0mhistory\u001b[0m\u001b[1;33m)\u001b[0m\u001b[1;33m\u001b[0m\u001b[1;33m\u001b[0m\u001b[0m\n\u001b[0m",
      "\u001b[1;31mNameError\u001b[0m: name 'history' is not defined"
     ]
    }
   ],
   "source": [
    " def plot_history(history):\n",
    "    loss_list = [s for s in history.history.keys() if 'loss' in s and 'val' not in s]\n",
    "    val_loss_list = [s for s in history.history.keys() if 'loss' in s and 'val' in s]\n",
    "    acc_list = [s for s in history.history.keys() if 'acc' in s and 'val' not in s]\n",
    "    val_acc_list = [s for s in history.history.keys() if 'acc' in s and 'val' in s]\n",
    "    \n",
    "    if len(loss_list) == 0:\n",
    "        print('Loss is missing in history')\n",
    "        return \n",
    "   \n",
    "    ## As loss always exists\n",
    "    epochs = range(1,len(history.history[loss_list[0]]) \n",
    "                   + 1)\n",
    "    \n",
    "    ## Loss\n",
    "    plt.figure(1)\n",
    "    for l in loss_list:\n",
    "        plt.plot(epochs, history.history[l], 'b', label='Training loss (' + str(str(format(history.history[l][-1],'.5f'))+')'))\n",
    "    for l in val_loss_list:\n",
    "        plt.plot(epochs, history.history[l], 'g', label='Validation loss (' + str(str(format(history.history[l][-1],'.5f'))+')'))\n",
    "    \n",
    "    plt.title('Loss')\n",
    "    plt.xlabel('Epochs')\n",
    "    plt.ylabel('Loss')\n",
    "    plt.legend()\n",
    "    \n",
    "    ## Accuracy\n",
    "    plt.figure(2)\n",
    "    for l in acc_list:\n",
    "        plt.plot(epochs, history.history[l], 'b', label='Training accuracy (' + str(format(history.history[l][-1],'.5f'))+')')\n",
    "    for l in val_acc_list:    \n",
    "        plt.plot(epochs, history.history[l], 'g', label='Validation accuracy (' + str(format(history.history[l][-1],'.5f'))+')')\n",
    "\n",
    "    plt.title('Accuracy')\n",
    "    plt.xlabel('Epochs')\n",
    "    plt.ylabel('Accuracy')\n",
    "    plt.legend()\n",
    "    plt.show()\n",
    "plot_history(history)"
   ]
  },
  {
   "cell_type": "code",
   "execution_count": 73,
   "metadata": {
    "colab": {
     "autoexec": {
      "startup": false,
      "wait_interval": 0
     }
    },
    "colab_type": "code",
    "id": "3iO1w1gdcNXR"
   },
   "outputs": [
    {
     "ename": "NameError",
     "evalue": "name 'x_val' is not defined",
     "output_type": "error",
     "traceback": [
      "\u001b[1;31m---------------------------------------------------------------------------\u001b[0m",
      "\u001b[1;31mNameError\u001b[0m                                 Traceback (most recent call last)",
      "\u001b[1;32m<ipython-input-73-ced7c4eb1d07>\u001b[0m in \u001b[0;36m<module>\u001b[1;34m\u001b[0m\n\u001b[0;32m      1\u001b[0m \u001b[0mindex\u001b[0m \u001b[1;33m=\u001b[0m \u001b[1;36m45\u001b[0m\u001b[1;33m\u001b[0m\u001b[1;33m\u001b[0m\u001b[0m\n\u001b[1;32m----> 2\u001b[1;33m \u001b[0mpredict_input\u001b[0m \u001b[1;33m=\u001b[0m \u001b[0mx_val\u001b[0m\u001b[1;33m[\u001b[0m\u001b[0mindex\u001b[0m\u001b[1;33m]\u001b[0m\u001b[1;33m\u001b[0m\u001b[1;33m\u001b[0m\u001b[0m\n\u001b[0m\u001b[0;32m      3\u001b[0m \u001b[0mground_truth\u001b[0m \u001b[1;33m=\u001b[0m \u001b[0my_val\u001b[0m\u001b[1;33m[\u001b[0m\u001b[0mindex\u001b[0m\u001b[1;33m]\u001b[0m\u001b[1;33m\u001b[0m\u001b[1;33m\u001b[0m\u001b[0m\n",
      "\u001b[1;31mNameError\u001b[0m: name 'x_val' is not defined"
     ]
    }
   ],
   "source": [
    "index = 45\n",
    "predict_input = x_val[index]\n",
    "ground_truth = y_val[index]"
   ]
  },
  {
   "cell_type": "code",
   "execution_count": 41,
   "metadata": {
    "colab": {
     "autoexec": {
      "startup": false,
      "wait_interval": 0
     }
    },
    "colab_type": "code",
    "id": "D1F3mjdab6nP"
   },
   "outputs": [
    {
     "ename": "NameError",
     "evalue": "name 'model' is not defined",
     "output_type": "error",
     "traceback": [
      "\u001b[1;31m---------------------------------------------------------------------------\u001b[0m",
      "\u001b[1;31mNameError\u001b[0m                                 Traceback (most recent call last)",
      "\u001b[1;32m<ipython-input-41-52c79b645ce8>\u001b[0m in \u001b[0;36m<module>\u001b[1;34m\u001b[0m\n\u001b[1;32m----> 1\u001b[1;33m \u001b[0mpredictions\u001b[0m \u001b[1;33m=\u001b[0m\u001b[0mmodel\u001b[0m\u001b[1;33m.\u001b[0m\u001b[0mpredict\u001b[0m\u001b[1;33m(\u001b[0m\u001b[0mpredict_input\u001b[0m\u001b[1;33m.\u001b[0m\u001b[0mreshape\u001b[0m\u001b[1;33m(\u001b[0m\u001b[1;36m1\u001b[0m\u001b[1;33m,\u001b[0m\u001b[1;36m192\u001b[0m\u001b[1;33m,\u001b[0m\u001b[1;36m256\u001b[0m\u001b[1;33m,\u001b[0m\u001b[1;36m3\u001b[0m\u001b[1;33m)\u001b[0m\u001b[1;33m,\u001b[0m \u001b[0mbatch_size\u001b[0m\u001b[1;33m=\u001b[0m\u001b[1;36m1\u001b[0m\u001b[1;33m)\u001b[0m\u001b[1;33m\u001b[0m\u001b[1;33m\u001b[0m\u001b[0m\n\u001b[0m\u001b[0;32m      2\u001b[0m \u001b[0mprediction\u001b[0m \u001b[1;33m=\u001b[0m \u001b[0mpredictions\u001b[0m\u001b[1;33m.\u001b[0m\u001b[0mreshape\u001b[0m\u001b[1;33m(\u001b[0m\u001b[1;36m192\u001b[0m\u001b[1;33m,\u001b[0m \u001b[1;36m256\u001b[0m\u001b[1;33m)\u001b[0m\u001b[1;33m\u001b[0m\u001b[1;33m\u001b[0m\u001b[0m\n",
      "\u001b[1;31mNameError\u001b[0m: name 'model' is not defined"
     ]
    }
   ],
   "source": [
    "predictions =model.predict(predict_input.reshape(1,192,256,3), batch_size=1)\n",
    "prediction = predictions.reshape(192, 256)"
   ]
  },
  {
   "cell_type": "code",
   "execution_count": 40,
   "metadata": {
    "colab": {
     "autoexec": {
      "startup": false,
      "wait_interval": 0
     },
     "base_uri": "https://localhost:8080/",
     "height": 561
    },
    "colab_type": "code",
    "executionInfo": {
     "elapsed": 1307,
     "status": "ok",
     "timestamp": 1526801717813,
     "user": {
      "displayName": "Manideep Kolla",
      "photoUrl": "//lh4.googleusercontent.com/-AhklfYPJ2yU/AAAAAAAAAAI/AAAAAAAAMLU/1G-c09ybTmY/s50-c-k-no/photo.jpg",
      "userId": "117392830770812166897"
     },
     "user_tz": -330
    },
    "id": "AuEYLNmoSlYc",
    "outputId": "f55716cb-0b99-4012-b6cf-4c9c7ae3f85e"
   },
   "outputs": [
    {
     "ename": "NameError",
     "evalue": "name 'prediction' is not defined",
     "output_type": "error",
     "traceback": [
      "\u001b[1;31m---------------------------------------------------------------------------\u001b[0m",
      "\u001b[1;31mNameError\u001b[0m                                 Traceback (most recent call last)",
      "\u001b[1;32m<ipython-input-40-7d16b18c9853>\u001b[0m in \u001b[0;36m<module>\u001b[1;34m\u001b[0m\n\u001b[0;32m      1\u001b[0m \u001b[1;31m#index = 45\u001b[0m\u001b[1;33m\u001b[0m\u001b[1;33m\u001b[0m\u001b[1;33m\u001b[0m\u001b[0m\n\u001b[0;32m      2\u001b[0m \u001b[0mplt\u001b[0m\u001b[1;33m.\u001b[0m\u001b[0mfigure\u001b[0m\u001b[1;33m(\u001b[0m\u001b[1;33m)\u001b[0m\u001b[1;33m\u001b[0m\u001b[1;33m\u001b[0m\u001b[0m\n\u001b[1;32m----> 3\u001b[1;33m \u001b[0mplt\u001b[0m\u001b[1;33m.\u001b[0m\u001b[0mimshow\u001b[0m\u001b[1;33m(\u001b[0m\u001b[0mprediction\u001b[0m\u001b[1;33m)\u001b[0m\u001b[1;33m\u001b[0m\u001b[1;33m\u001b[0m\u001b[0m\n\u001b[0m\u001b[0;32m      4\u001b[0m \u001b[0mplt\u001b[0m\u001b[1;33m.\u001b[0m\u001b[0mtitle\u001b[0m\u001b[1;33m(\u001b[0m\u001b[1;34m'Predicted'\u001b[0m\u001b[1;33m)\u001b[0m\u001b[1;33m\u001b[0m\u001b[1;33m\u001b[0m\u001b[0m\n\u001b[0;32m      5\u001b[0m \u001b[0mplt\u001b[0m\u001b[1;33m.\u001b[0m\u001b[0mfigure\u001b[0m\u001b[1;33m(\u001b[0m\u001b[1;33m)\u001b[0m\u001b[1;33m\u001b[0m\u001b[1;33m\u001b[0m\u001b[0m\n",
      "\u001b[1;31mNameError\u001b[0m: name 'prediction' is not defined"
     ]
    },
    {
     "data": {
      "text/plain": [
       "<Figure size 432x288 with 0 Axes>"
      ]
     },
     "metadata": {},
     "output_type": "display_data"
    }
   ],
   "source": [
    "#index = 45\n",
    "plt.figure()\n",
    "plt.imshow(prediction)\n",
    "plt.title('Predicted')\n",
    "plt.figure()\n",
    "plt.imshow(ground_truth)\n",
    "plt.title('Ground Truth')"
   ]
  },
  {
   "cell_type": "code",
   "execution_count": null,
   "metadata": {
    "colab": {
     "autoexec": {
      "startup": false,
      "wait_interval": 0
     }
    },
    "colab_type": "code",
    "id": "6EFLQ9oOzKua"
   },
   "outputs": [],
   "source": []
  }
 ],
 "metadata": {
  "accelerator": "GPU",
  "colab": {
   "collapsed_sections": [],
   "default_view": {},
   "name": "melanoma_segmentation1.ipynb",
   "provenance": [],
   "version": "0.3.2",
   "views": {}
  },
  "kernelspec": {
   "display_name": "Python 3",
   "language": "python",
   "name": "python3"
  },
  "language_info": {
   "codemirror_mode": {
    "name": "ipython",
    "version": 3
   },
   "file_extension": ".py",
   "mimetype": "text/x-python",
   "name": "python",
   "nbconvert_exporter": "python",
   "pygments_lexer": "ipython3",
   "version": "3.6.8"
  },
  "widgets": {
   "application/vnd.jupyter.widget-state+json": {
    "state": {},
    "version_major": 2,
    "version_minor": 0
   }
  }
 },
 "nbformat": 4,
 "nbformat_minor": 1
}
