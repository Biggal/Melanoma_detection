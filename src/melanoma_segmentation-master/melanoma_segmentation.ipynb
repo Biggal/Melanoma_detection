{
 "cells": [
  {
   "cell_type": "code",
   "execution_count": 0,
   "metadata": {
    "colab": {
     "autoexec": {
      "startup": false,
      "wait_interval": 0
     }
    },
    "colab_type": "code",
    "id": "5PYYaGcToEcq"
   },
   "outputs": [],
   "source": [
    "from keras.preprocessing import image\n",
    "from keras.models import Model, Sequential\n",
    "from keras.layers import Activation, Dense, GlobalAveragePooling2D, BatchNormalization, Dropout, Conv2D, Conv2DTranspose, AveragePooling2D, MaxPooling2D, UpSampling2D, Input, Reshape\n",
    "from keras import backend as K\n",
    "from keras.optimizers import Nadam, Adam, SGD\n",
    "from keras.metrics import categorical_accuracy, binary_accuracy\n",
    "#from keras_contrib.losses import jaccard\n",
    "import tensorflow as tf\n",
    "import numpy as np\n",
    "import pandas as pd\n",
    "import glob\n",
    "import PIL\n",
    "from PIL import Image\n",
    "import matplotlib.pyplot as plt\n",
    "%matplotlib inline"
   ]
  },
  {
   "cell_type": "code",
   "execution_count": 0,
   "metadata": {
    "colab": {
     "autoexec": {
      "startup": false,
      "wait_interval": 0
     }
    },
    "colab_type": "code",
    "id": "B7rHGhE8uCwb"
   },
   "outputs": [],
   "source": [
    "def jaccard_distance(y_true, y_pred, smooth=100):\n",
    "    intersection = K.sum(K.abs(y_true * y_pred), axis=-1)\n",
    "    sum_ = K.sum(K.square(y_true), axis = -1) + K.sum(K.square(y_pred), axis=-1)\n",
    "    jac = (intersection + smooth) / (sum_ - intersection + smooth)\n",
    "    return (1 - jac) "
   ]
  },
  {
   "cell_type": "code",
   "execution_count": 0,
   "metadata": {
    "colab": {
     "autoexec": {
      "startup": false,
      "wait_interval": 0
     }
    },
    "colab_type": "code",
    "id": "NboSwhqOvlTw"
   },
   "outputs": [],
   "source": [
    "def iou(y_true, y_pred, smooth = 100):\n",
    "    intersection = K.sum(K.abs(y_true * y_pred), axis=-1)\n",
    "    sum_ = K.sum(K.square(y_true), axis = -1) + K.sum(K.square(y_pred), axis=-1)\n",
    "    jac = (intersection + smooth) / (sum_ - intersection + smooth)\n",
    "    return jac"
   ]
  },
  {
   "cell_type": "code",
   "execution_count": 0,
   "metadata": {
    "colab": {
     "autoexec": {
      "startup": false,
      "wait_interval": 0
     }
    },
    "colab_type": "code",
    "id": "umQIcnQM-U8y"
   },
   "outputs": [],
   "source": [
    "# To read the images in numerical order\n",
    "import re\n",
    "numbers = re.compile(r'(\\d+)')\n",
    "def numericalSort(value):\n",
    "    parts = numbers.split(value)\n",
    "    parts[1::2] = map(int, parts[1::2])\n",
    "    return parts"
   ]
  },
  {
   "cell_type": "code",
   "execution_count": 0,
   "metadata": {
    "colab": {
     "autoexec": {
      "startup": false,
      "wait_interval": 0
     }
    },
    "colab_type": "code",
    "id": "JqPblx6quzaP"
   },
   "outputs": [],
   "source": [
    "# Initializing all the images into 4d arrays.\n",
    "\n",
    "filelist_trainx = sorted(glob.glob('trainx/*.jpg'), key=numericalSort)\n",
    "#filelist_trainx.sort()\n",
    "X_train = np.array([np.array(Image.open(fname)) for fname in filelist_trainx])\n",
    "\n",
    "filelist_trainy = sorted(glob.glob('trainy/*.jpg'), key=numericalSort)\n",
    "#filelist_trainy.sort()\n",
    "Y_train = np.array([np.array(Image.open(fname)) for fname in filelist_trainy])\n",
    "\n",
    "filelist_testx = sorted(glob.glob('testx/*.jpg'), key=numericalSort)\n",
    "#filelist_testx.sort()\n",
    "X_test = np.array([np.array(Image.open(fname)) for fname in filelist_testx])\n",
    "\n",
    "filelist_testy = sorted(glob.glob('testy/*.jpg'), key=numericalSort)\n",
    "#filelist_testy.sort()\n",
    "Y_test = np.array([np.array(Image.open(fname)) for fname in filelist_testy])\n",
    "\n",
    "filelist_valx = sorted(glob.glob('validationx/*.jpg'), key=numericalSort)\n",
    "#filelist_valx.sort()\n",
    "X_val = np.array([np.array(Image.open(fname)) for fname in filelist_valx])\n",
    "\n",
    "filelist_valy = sorted(glob.glob('validationy/*.jpg'), key=numericalSort)\n",
    "#filelist_valy.sort()\n",
    "Y_val = np.array([np.array(Image.open(fname)) for fname in filelist_valy])"
   ]
  },
  {
   "cell_type": "code",
   "execution_count": 8,
   "metadata": {
    "colab": {
     "autoexec": {
      "startup": false,
      "wait_interval": 0
     },
     "base_uri": "https://localhost:8080/",
     "height": 393
    },
    "colab_type": "code",
    "executionInfo": {
     "elapsed": 1414,
     "status": "ok",
     "timestamp": 1526788841790,
     "user": {
      "displayName": "Manideep Kolla",
      "photoUrl": "//lh4.googleusercontent.com/-AhklfYPJ2yU/AAAAAAAAAAI/AAAAAAAAMLU/1G-c09ybTmY/s50-c-k-no/photo.jpg",
      "userId": "117392830770812166897"
     },
     "user_tz": -330
    },
    "id": "wfRNBcdtu3Lt",
    "outputId": "2fb029f1-c983-4242-b696-16a0c7d23541"
   },
   "outputs": [
    {
     "name": "stdout",
     "output_type": "stream",
     "text": [
      "y = [[0 0 0 ... 0 0 0]\n",
      " [0 0 0 ... 0 0 0]\n",
      " [0 0 0 ... 0 0 0]\n",
      " ...\n",
      " [0 0 0 ... 0 0 0]\n",
      " [0 0 0 ... 0 0 0]\n",
      " [0 0 0 ... 0 0 0]]\n"
     ]
    },
    {
     "data": {
      "image/png": "[encoded data removed]",
      "text/plain": [
       "<matplotlib.figure.Figure at 0x7f34e590a160>"
      ]
     },
     "metadata": {
      "tags": []
     },
     "output_type": "display_data"
    }
   ],
   "source": [
    "index = 100\n",
    "plt.imshow(Y_val[index])\n",
    "print (\"y = \" + str(np.squeeze(Y_val[:, index])))"
   ]
  },
  {
   "cell_type": "code",
   "execution_count": 0,
   "metadata": {
    "colab": {
     "autoexec": {
      "startup": false,
      "wait_interval": 0
     }
    },
    "colab_type": "code",
    "id": "MQk0x9hlu5xL"
   },
   "outputs": [],
   "source": [
    "def UnPooling2x2ZeroFilled(x):\n",
    "    \n",
    "    out = tf.concat([x, tf.zeros_like(x)], 3)\n",
    "    out = tf.concat([out, tf.zeros_like(out)], 2)\n",
    "\n",
    "    sh = x.get_shape().as_list()\n",
    "    if None not in sh[1:]:\n",
    "        out_size = [-1, sh[1] * 2, sh[2] * 2, sh[3]]\n",
    "        return tf.reshape(out, out_size)\n",
    "    else:\n",
    "        shv = tf.shape(x)\n",
    "        ret = tf.reshape(out, tf.stack([-1, shv[1] * 2, shv[2] * 2, sh[3]]))\n",
    "        return ret"
   ]
  },
  {
   "cell_type": "code",
   "execution_count": 0,
   "metadata": {
    "colab": {
     "autoexec": {
      "startup": false,
      "wait_interval": 0
     }
    },
    "colab_type": "code",
    "id": "gnSdLXT60fex"
   },
   "outputs": [],
   "source": [
    "# Pipe Line\n",
    "\n",
    "(x_train, y_train), (x_test, y_test), (x_val, y_val) = (X_train, Y_train), (X_test, Y_test), (X_val, Y_val)\n",
    "\n",
    "def model_seg():\n",
    "  \n",
    "  # Convolution Layers (BatchNorm after non-linear activation)\n",
    "  \n",
    "  img_input = Input(shape= (192, 256, 3))\n",
    "  x = Conv2D(16, (3, 3), padding='same', name='conv1')(img_input)\n",
    "  x = BatchNormalization(name='bn1')(x)\n",
    "  x = Activation('relu')(x)\n",
    "  x = Conv2D(32, (3, 3), padding='same', name='conv2')(x)\n",
    "  x = BatchNormalization(name='bn2')(x)\n",
    "  x = Activation('relu')(x)\n",
    "  x = MaxPooling2D()(x)\n",
    "  x = Conv2D(64, (3, 3), padding='same', name='conv3')(x)\n",
    "  x = BatchNormalization(name='bn3')(x)\n",
    "  x = Activation('relu')(x)\n",
    "  x = Conv2D(64, (3, 3), padding='same', name='conv4')(x)\n",
    "  x = BatchNormalization(name='bn4')(x)\n",
    "  x = Activation('relu')(x)\n",
    "  x = MaxPooling2D()(x)\n",
    "  x = Conv2D(128, (3, 3), padding='same', name='conv5')(x)\n",
    "  x = BatchNormalization(name='bn5')(x)\n",
    "  x = Activation('relu')(x)\n",
    "  x = Conv2D(128, (4, 4), padding='same', name='conv6')(x)\n",
    "  x = BatchNormalization(name='bn6')(x)\n",
    "  x = Activation('relu')(x)\n",
    "  x = MaxPooling2D()(x)\n",
    "  x = Conv2D(256, (3, 3), padding='same', name='conv7')(x)\n",
    "  x = BatchNormalization(name='bn7')(x)\n",
    "  x = Dropout(0.5)(x)\n",
    "  x = Activation('relu')(x)\n",
    "  x = Conv2D(256, (3, 3), padding='same', name='conv8')(x)\n",
    "  x = BatchNormalization(name='bn8')(x)\n",
    "  x = Activation('relu')(x)\n",
    "  x = MaxPooling2D()(x)\n",
    "  x = Conv2D(512, (3, 3), padding='same', name='conv9')(x)\n",
    "  x = BatchNormalization(name='bn9')(x)\n",
    "  x = Activation('relu')(x)\n",
    "  x = Dense(1024, activation = 'relu', name='fc1')(x)\n",
    "  x = Dense(1024, activation = 'relu', name='fc2')(x)\n",
    "  \n",
    "  # Deconvolution Layers (BatchNorm after non-linear activation)\n",
    "  \n",
    "  x = Conv2DTranspose(256, (3, 3), padding='same', name='deconv1')(x)\n",
    "  x = BatchNormalization(name='bn19')(x)\n",
    "  x = Activation('relu')(x)\n",
    "  x = UpSampling2D()(x)\n",
    "  x = Conv2DTranspose(256, (3, 3), padding='same', name='deconv2')(x)\n",
    "  x = BatchNormalization(name='bn12')(x)\n",
    "  x = Activation('relu')(x)\n",
    "  x = Conv2DTranspose(128, (3, 3), padding='same', name='deconv3')(x)\n",
    "  x = BatchNormalization(name='bn13')(x)\n",
    "  x = Activation('relu')(x)\n",
    "  x = UpSampling2D()(x)\n",
    "  x = Conv2DTranspose(128, (4, 4), padding='same', name='deconv4')(x)\n",
    "  x = BatchNormalization(name='bn14')(x)\n",
    "  x = Activation('relu')(x)\n",
    "  x = Conv2DTranspose(128, (3, 3), padding='same', name='deconv5')(x)\n",
    "  x = BatchNormalization(name='bn15')(x)\n",
    "  x = Activation('relu')(x)\n",
    "  x = UpSampling2D()(x)\n",
    "  x = Conv2DTranspose(64, (3, 3), padding='same', name='deconv6')(x)\n",
    "  x = BatchNormalization(name='bn16')(x)\n",
    "  x = Activation('relu')(x)\n",
    "  x = Conv2DTranspose(32, (3, 3), padding='same', name='deconv7')(x)\n",
    "  x = BatchNormalization(name='bn20')(x)\n",
    "  x = Activation('relu')(x)\n",
    "  x = UpSampling2D()(x)\n",
    "  x = Conv2DTranspose(16, (3, 3), padding='same', name='deconv8')(x)\n",
    "  x = BatchNormalization(name='bn17')(x)\n",
    "  x = Dropout(0.5)(x)\n",
    "  x = Activation('relu')(x)\n",
    "  x = Conv2DTranspose(1, (3, 3), padding='same', name='deconv9')(x)\n",
    "  x = BatchNormalization(name='bn18')(x)\n",
    "  x = Activation('sigmoid')(x)\n",
    "  pred = Reshape((192,256))(x)\n",
    "  \n",
    "  model = Model(inputs=img_input, outputs=pred)\n",
    "  \n",
    "  model.compile(optimizer= Adam(lr = 0.003), loss= [jaccard_distance], metrics=[iou])\n",
    "  \n",
    "  hist = model.fit(x_train, y_train, epochs= 300, batch_size= 16,validation_data=(x_test, y_test), verbose=1)\n",
    "  \n",
    "  model.save(\"model.h5\")\n",
    "  \n",
    "  accuracy = model.evaluate(x=x_test,y=y_test,batch_size=16)\n",
    "  print(\"Accuracy: \",accuracy[1])"
   ]
  },
  {
   "cell_type": "code",
   "execution_count": 24,
   "metadata": {
    "colab": {
     "autoexec": {
      "startup": false,
      "wait_interval": 0
     },
     "base_uri": "https://localhost:8080/",
     "height": 7167
    },
    "colab_type": "code",
    "executionInfo": {
     "elapsed": 14978949,
     "status": "ok",
     "timestamp": 1526771788192,
     "user": {
      "displayName": "Manideep Kolla",
      "photoUrl": "//lh4.googleusercontent.com/-AhklfYPJ2yU/AAAAAAAAAAI/AAAAAAAAMLU/1G-c09ybTmY/s50-c-k-no/photo.jpg",
      "userId": "117392830770812166897"
     },
     "user_tz": -330
    },
    "id": "p6A3nXVqejtK",
    "outputId": "fa12556c-eb27-4aa8-b2d9-3689d4d4964c"
   },
   "outputs": [
    {
     "name": "stdout",
     "output_type": "stream",
     "text": [
      "Train on 2000 samples, validate on 600 samples\n",
      "Epoch 1/200\n",
      "2000/2000 [==============================] - 82s 41ms/step - loss: 0.6329 - iou: 0.3671 - val_loss: 0.7062 - val_iou: 0.2938\n",
      "Epoch 2/200\n",
      "2000/2000 [==============================] - 74s 37ms/step - loss: 0.5905 - iou: 0.4095 - val_loss: 0.6382 - val_iou: 0.3618\n",
      "Epoch 3/200\n",
      "1808/2000 [==========================>...] - ETA: 6s - loss: 0.5741 - iou: 0.42592000/2000 [==============================] - 74s 37ms/step - loss: 0.5729 - iou: 0.4271 - val_loss: 0.6212 - val_iou: 0.3788\n",
      "Epoch 4/200\n",
      "2000/2000 [==============================] - 74s 37ms/step - loss: 0.5653 - iou: 0.4347 - val_loss: 0.6213 - val_iou: 0.3787\n",
      "Epoch 5/200\n",
      "2000/2000 [==============================] - 74s 37ms/step - loss: 0.5612 - iou: 0.4388 - val_loss: 0.6165 - val_iou: 0.3835\n",
      "Epoch 6/200\n",
      " 832/2000 [===========>..................] - ETA: 38s - loss: 0.5577 - iou: 0.44232000/2000 [==============================] - 75s 38ms/step - loss: 0.5592 - iou: 0.4408 - val_loss: 0.6442 - val_iou: 0.3558\n",
      "Epoch 7/200\n",
      "2000/2000 [==============================] - 75s 37ms/step - loss: 0.5575 - iou: 0.4425 - val_loss: 0.6137 - val_iou: 0.3863\n",
      "Epoch 8/200\n",
      "2000/2000 [==============================] - 74s 37ms/step - loss: 0.5567 - iou: 0.4433 - val_loss: 0.6130 - val_iou: 0.3870\n",
      "Epoch 9/200\n",
      " 672/2000 [=========>....................] - ETA: 44s - loss: 0.5589 - iou: 0.44112000/2000 [==============================] - 74s 37ms/step - loss: 0.5558 - iou: 0.4442 - val_loss: 0.6174 - val_iou: 0.3826\n",
      "Epoch 10/200\n",
      "2000/2000 [==============================] - 75s 37ms/step - loss: 0.5553 - iou: 0.4447 - val_loss: 0.6128 - val_iou: 0.3872\n",
      "Epoch 11/200\n",
      "2000/2000 [==============================] - 74s 37ms/step - loss: 0.5553 - iou: 0.4447 - val_loss: 0.6239 - val_iou: 0.3761\n",
      "Epoch 12/200\n",
      " 640/2000 [========>.....................] - ETA: 45s - loss: 0.5600 - iou: 0.44002000/2000 [==============================] - 75s 37ms/step - loss: 0.5543 - iou: 0.4457 - val_loss: 0.6119 - val_iou: 0.3881\n",
      "Epoch 13/200\n",
      "2000/2000 [==============================] - 74s 37ms/step - loss: 0.5541 - iou: 0.4459 - val_loss: 0.6117 - val_iou: 0.3883\n",
      "Epoch 14/200\n",
      "2000/2000 [==============================] - 74s 37ms/step - loss: 0.5539 - iou: 0.4461 - val_loss: 0.6119 - val_iou: 0.3881\n",
      "Epoch 15/200\n",
      " 624/2000 [========>.....................] - ETA: 45s - loss: 0.5454 - iou: 0.45462000/2000 [==============================] - 75s 37ms/step - loss: 0.5538 - iou: 0.4462 - val_loss: 0.6119 - val_iou: 0.3881\n",
      "Epoch 16/200\n",
      "2000/2000 [==============================] - 75s 38ms/step - loss: 0.5536 - iou: 0.4464 - val_loss: 0.6119 - val_iou: 0.3881\n",
      "Epoch 17/200\n",
      "2000/2000 [==============================] - 75s 37ms/step - loss: 0.5536 - iou: 0.4464 - val_loss: 0.6117 - val_iou: 0.3883\n",
      "Epoch 18/200\n",
      " 624/2000 [========>.....................] - ETA: 45s - loss: 0.5529 - iou: 0.44712000/2000 [==============================] - 75s 37ms/step - loss: 0.5533 - iou: 0.4467 - val_loss: 0.6120 - val_iou: 0.3880\n",
      "Epoch 19/200\n",
      "2000/2000 [==============================] - 75s 37ms/step - loss: 0.5532 - iou: 0.4468 - val_loss: 0.6128 - val_iou: 0.3872\n",
      "Epoch 20/200\n",
      "2000/2000 [==============================] - 75s 37ms/step - loss: 0.5533 - iou: 0.4467 - val_loss: 0.6113 - val_iou: 0.3887\n",
      "Epoch 21/200\n",
      " 624/2000 [========>.....................] - ETA: 45s - loss: 0.5389 - iou: 0.46112000/2000 [==============================] - 75s 37ms/step - loss: 0.5529 - iou: 0.4471 - val_loss: 0.6114 - val_iou: 0.3886\n",
      "Epoch 22/200\n",
      "2000/2000 [==============================] - 75s 37ms/step - loss: 0.5531 - iou: 0.4469 - val_loss: 0.6115 - val_iou: 0.3885\n",
      "Epoch 23/200\n",
      "2000/2000 [==============================] - 75s 37ms/step - loss: 0.5531 - iou: 0.4469 - val_loss: 0.6142 - val_iou: 0.3858\n",
      "Epoch 24/200\n",
      " 624/2000 [========>.....................] - ETA: 45s - loss: 0.5551 - iou: 0.44492000/2000 [==============================] - 75s 37ms/step - loss: 0.5528 - iou: 0.4472 - val_loss: 0.6111 - val_iou: 0.3889\n",
      "Epoch 25/200\n",
      "2000/2000 [==============================] - 75s 37ms/step - loss: 0.5530 - iou: 0.4470 - val_loss: 0.6130 - val_iou: 0.3870\n",
      "Epoch 26/200\n",
      "2000/2000 [==============================] - 75s 37ms/step - loss: 0.5530 - iou: 0.4470 - val_loss: 0.6112 - val_iou: 0.3888\n",
      "Epoch 27/200\n",
      " 624/2000 [========>.....................] - ETA: 45s - loss: 0.5574 - iou: 0.44262000/2000 [==============================] - 75s 37ms/step - loss: 0.5528 - iou: 0.4472 - val_loss: 0.6111 - val_iou: 0.3889\n",
      "Epoch 28/200\n",
      "2000/2000 [==============================] - 75s 37ms/step - loss: 0.5525 - iou: 0.4475 - val_loss: 0.6108 - val_iou: 0.3892\n",
      "Epoch 29/200\n",
      "2000/2000 [==============================] - 75s 37ms/step - loss: 0.5525 - iou: 0.4475 - val_loss: 0.6108 - val_iou: 0.3892\n",
      "Epoch 30/200\n",
      " 624/2000 [========>.....................] - ETA: 45s - loss: 0.5582 - iou: 0.44182000/2000 [==============================] - 75s 38ms/step - loss: 0.5527 - iou: 0.4473 - val_loss: 0.6113 - val_iou: 0.3887\n",
      "Epoch 31/200\n",
      "2000/2000 [==============================] - 75s 37ms/step - loss: 0.5523 - iou: 0.4477 - val_loss: 0.6107 - val_iou: 0.3893\n",
      "Epoch 32/200\n",
      "2000/2000 [==============================] - 75s 37ms/step - loss: 0.5524 - iou: 0.4476 - val_loss: 0.6121 - val_iou: 0.3879\n",
      "Epoch 33/200\n",
      " 624/2000 [========>.....................] - ETA: 45s - loss: 0.5501 - iou: 0.44992000/2000 [==============================] - 75s 37ms/step - loss: 0.5526 - iou: 0.4474 - val_loss: 0.6115 - val_iou: 0.3885\n",
      "Epoch 34/200\n",
      "2000/2000 [==============================] - 75s 37ms/step - loss: 0.5526 - iou: 0.4474 - val_loss: 0.6112 - val_iou: 0.3888\n",
      "Epoch 35/200\n",
      "2000/2000 [==============================] - 75s 37ms/step - loss: 0.5523 - iou: 0.4477 - val_loss: 0.6106 - val_iou: 0.3894\n",
      "Epoch 36/200\n",
      " 624/2000 [========>.....................] - ETA: 45s - loss: 0.5531 - iou: 0.44692000/2000 [==============================] - 75s 37ms/step - loss: 0.5524 - iou: 0.4476 - val_loss: 0.6109 - val_iou: 0.3891\n",
      "Epoch 37/200\n",
      "2000/2000 [==============================] - 75s 37ms/step - loss: 0.5521 - iou: 0.4479 - val_loss: 0.6116 - val_iou: 0.3884\n",
      "Epoch 38/200\n",
      "2000/2000 [==============================] - 75s 37ms/step - loss: 0.5523 - iou: 0.4477 - val_loss: 0.6107 - val_iou: 0.3893\n",
      "Epoch 39/200\n",
      " 624/2000 [========>.....................] - ETA: 45s - loss: 0.5495 - iou: 0.45052000/2000 [==============================] - 75s 37ms/step - loss: 0.5524 - iou: 0.4476 - val_loss: 0.6106 - val_iou: 0.3894\n",
      "Epoch 40/200\n",
      "2000/2000 [==============================] - 75s 37ms/step - loss: 0.5525 - iou: 0.4475 - val_loss: 0.6107 - val_iou: 0.3893\n",
      "Epoch 41/200\n",
      "2000/2000 [==============================] - 74s 37ms/step - loss: 0.5521 - iou: 0.4479 - val_loss: 0.6106 - val_iou: 0.3894\n",
      "Epoch 42/200\n",
      " 624/2000 [========>.....................] - ETA: 45s - loss: 0.5387 - iou: 0.46132000/2000 [==============================] - 74s 37ms/step - loss: 0.5522 - iou: 0.4478 - val_loss: 0.6112 - val_iou: 0.3888\n",
      "Epoch 43/200\n",
      "2000/2000 [==============================] - 74s 37ms/step - loss: 0.5521 - iou: 0.4479 - val_loss: 0.6106 - val_iou: 0.3894\n",
      "Epoch 44/200\n",
      "2000/2000 [==============================] - 74s 37ms/step - loss: 0.5519 - iou: 0.4481 - val_loss: 0.6105 - val_iou: 0.3895\n",
      "Epoch 45/200\n",
      " 624/2000 [========>.....................] - ETA: 45s - loss: 0.5549 - iou: 0.44512000/2000 [==============================] - 74s 37ms/step - loss: 0.5522 - iou: 0.4478 - val_loss: 0.6113 - val_iou: 0.3887\n",
      "Epoch 46/200\n",
      "2000/2000 [==============================] - 74s 37ms/step - loss: 0.5520 - iou: 0.4480 - val_loss: 0.6115 - val_iou: 0.3885\n",
      "Epoch 47/200\n",
      "2000/2000 [==============================] - 74s 37ms/step - loss: 0.5521 - iou: 0.4479 - val_loss: 0.6104 - val_iou: 0.3896\n",
      "Epoch 48/200\n",
      " 624/2000 [========>.....................] - ETA: 45s - loss: 0.5422 - iou: 0.45782000/2000 [==============================] - 74s 37ms/step - loss: 0.5520 - iou: 0.4480 - val_loss: 0.6107 - val_iou: 0.3893\n",
      "Epoch 49/200\n",
      "2000/2000 [==============================] - 75s 37ms/step - loss: 0.5518 - iou: 0.4482 - val_loss: 0.6106 - val_iou: 0.3894\n",
      "Epoch 50/200\n",
      "2000/2000 [==============================] - 75s 37ms/step - loss: 0.5519 - iou: 0.4481 - val_loss: 0.6115 - val_iou: 0.3885\n",
      "Epoch 51/200\n"
     ]
    },
    {
     "name": "stdout",
     "output_type": "stream",
     "text": [
      " 624/2000 [========>.....................] - ETA: 45s - loss: 0.5638 - iou: 0.43622000/2000 [==============================] - 75s 37ms/step - loss: 0.5520 - iou: 0.4480 - val_loss: 0.6107 - val_iou: 0.3893\n",
      "Epoch 52/200\n",
      "2000/2000 [==============================] - 75s 37ms/step - loss: 0.5518 - iou: 0.4482 - val_loss: 0.6107 - val_iou: 0.3893\n",
      "Epoch 53/200\n",
      "2000/2000 [==============================] - 74s 37ms/step - loss: 0.5517 - iou: 0.4483 - val_loss: 0.6104 - val_iou: 0.3896\n",
      "Epoch 54/200\n",
      " 624/2000 [========>.....................] - ETA: 45s - loss: 0.5587 - iou: 0.44132000/2000 [==============================] - 75s 37ms/step - loss: 0.5519 - iou: 0.4481 - val_loss: 0.6109 - val_iou: 0.3891\n",
      "Epoch 55/200\n",
      "2000/2000 [==============================] - 75s 37ms/step - loss: 0.5520 - iou: 0.4480 - val_loss: 0.6109 - val_iou: 0.3891\n",
      "Epoch 56/200\n",
      "2000/2000 [==============================] - 75s 37ms/step - loss: 0.5518 - iou: 0.4482 - val_loss: 0.6107 - val_iou: 0.3893\n",
      "Epoch 57/200\n",
      " 624/2000 [========>.....................] - ETA: 45s - loss: 0.5381 - iou: 0.46192000/2000 [==============================] - 75s 37ms/step - loss: 0.5519 - iou: 0.4481 - val_loss: 0.6107 - val_iou: 0.3893\n",
      "Epoch 58/200\n",
      "2000/2000 [==============================] - 75s 37ms/step - loss: 0.5518 - iou: 0.4482 - val_loss: 0.6105 - val_iou: 0.3895\n",
      "Epoch 59/200\n",
      "2000/2000 [==============================] - 75s 37ms/step - loss: 0.5517 - iou: 0.4483 - val_loss: 0.6106 - val_iou: 0.3894\n",
      "Epoch 60/200\n",
      " 624/2000 [========>.....................] - ETA: 45s - loss: 0.5478 - iou: 0.45222000/2000 [==============================] - 75s 37ms/step - loss: 0.5516 - iou: 0.4484 - val_loss: 0.6105 - val_iou: 0.3895\n",
      "Epoch 61/200\n",
      "2000/2000 [==============================] - 75s 38ms/step - loss: 0.5515 - iou: 0.4485 - val_loss: 0.6106 - val_iou: 0.3894\n",
      "Epoch 62/200\n",
      "2000/2000 [==============================] - 74s 37ms/step - loss: 0.5516 - iou: 0.4484 - val_loss: 0.6107 - val_iou: 0.3893\n",
      "Epoch 63/200\n",
      " 624/2000 [========>.....................] - ETA: 45s - loss: 0.5354 - iou: 0.46462000/2000 [==============================] - 74s 37ms/step - loss: 0.5517 - iou: 0.4483 - val_loss: 0.6105 - val_iou: 0.3895\n",
      "Epoch 64/200\n",
      "2000/2000 [==============================] - 74s 37ms/step - loss: 0.5516 - iou: 0.4484 - val_loss: 0.6106 - val_iou: 0.3894\n",
      "Epoch 65/200\n",
      "2000/2000 [==============================] - 74s 37ms/step - loss: 0.5517 - iou: 0.4483 - val_loss: 0.6108 - val_iou: 0.3892\n",
      "Epoch 66/200\n",
      " 624/2000 [========>.....................] - ETA: 45s - loss: 0.5622 - iou: 0.43782000/2000 [==============================] - 75s 37ms/step - loss: 0.5515 - iou: 0.4485 - val_loss: 0.6106 - val_iou: 0.3894\n",
      "Epoch 67/200\n",
      "2000/2000 [==============================] - 75s 37ms/step - loss: 0.5514 - iou: 0.4486 - val_loss: 0.6107 - val_iou: 0.3893\n",
      "Epoch 68/200\n",
      "2000/2000 [==============================] - 75s 37ms/step - loss: 0.5513 - iou: 0.4487 - val_loss: 0.6111 - val_iou: 0.3889\n",
      "Epoch 69/200\n",
      " 624/2000 [========>.....................] - ETA: 45s - loss: 0.5547 - iou: 0.44532000/2000 [==============================] - 75s 37ms/step - loss: 0.5514 - iou: 0.4486 - val_loss: 0.6105 - val_iou: 0.3895\n",
      "Epoch 70/200\n",
      "2000/2000 [==============================] - 75s 38ms/step - loss: 0.5513 - iou: 0.4487 - val_loss: 0.6105 - val_iou: 0.3895\n",
      "Epoch 71/200\n",
      "2000/2000 [==============================] - 75s 38ms/step - loss: 0.5517 - iou: 0.4483 - val_loss: 0.6110 - val_iou: 0.3890\n",
      "Epoch 72/200\n",
      " 624/2000 [========>.....................] - ETA: 46s - loss: 0.5636 - iou: 0.43642000/2000 [==============================] - 75s 38ms/step - loss: 0.5515 - iou: 0.4485 - val_loss: 0.6106 - val_iou: 0.3894\n",
      "Epoch 73/200\n",
      "2000/2000 [==============================] - 75s 38ms/step - loss: 0.5513 - iou: 0.4487 - val_loss: 0.6107 - val_iou: 0.3893\n",
      "Epoch 74/200\n",
      "2000/2000 [==============================] - 75s 38ms/step - loss: 0.5513 - iou: 0.4487 - val_loss: 0.6107 - val_iou: 0.3893\n",
      "Epoch 75/200\n",
      " 624/2000 [========>.....................] - ETA: 46s - loss: 0.5467 - iou: 0.45332000/2000 [==============================] - 75s 38ms/step - loss: 0.5512 - iou: 0.4488 - val_loss: 0.6107 - val_iou: 0.3893\n",
      "Epoch 76/200\n",
      "2000/2000 [==============================] - 75s 38ms/step - loss: 0.5513 - iou: 0.4487 - val_loss: 0.6113 - val_iou: 0.3887\n",
      "Epoch 77/200\n",
      "2000/2000 [==============================] - 75s 38ms/step - loss: 0.5511 - iou: 0.4489 - val_loss: 0.6108 - val_iou: 0.3892\n",
      "Epoch 78/200\n",
      " 624/2000 [========>.....................] - ETA: 46s - loss: 0.5318 - iou: 0.46822000/2000 [==============================] - 75s 38ms/step - loss: 0.5512 - iou: 0.4488 - val_loss: 0.6106 - val_iou: 0.3894\n",
      "Epoch 79/200\n",
      "2000/2000 [==============================] - 76s 38ms/step - loss: 0.5513 - iou: 0.4487 - val_loss: 0.6107 - val_iou: 0.3893\n",
      "Epoch 80/200\n",
      "2000/2000 [==============================] - 75s 38ms/step - loss: 0.5511 - iou: 0.4489 - val_loss: 0.6111 - val_iou: 0.3889\n",
      "Epoch 81/200\n",
      " 624/2000 [========>.....................] - ETA: 45s - loss: 0.5440 - iou: 0.45602000/2000 [==============================] - 75s 38ms/step - loss: 0.5513 - iou: 0.4487 - val_loss: 0.6107 - val_iou: 0.3893\n",
      "Epoch 82/200\n",
      "2000/2000 [==============================] - 75s 38ms/step - loss: 0.5512 - iou: 0.4488 - val_loss: 0.6108 - val_iou: 0.3892\n",
      "Epoch 83/200\n",
      "2000/2000 [==============================] - 75s 38ms/step - loss: 0.5511 - iou: 0.4489 - val_loss: 0.6111 - val_iou: 0.3889\n",
      "Epoch 84/200\n",
      " 624/2000 [========>.....................] - ETA: 46s - loss: 0.5501 - iou: 0.44992000/2000 [==============================] - 75s 37ms/step - loss: 0.5509 - iou: 0.4491 - val_loss: 0.6111 - val_iou: 0.3889\n",
      "Epoch 85/200\n",
      "2000/2000 [==============================] - 75s 38ms/step - loss: 0.5513 - iou: 0.4487 - val_loss: 0.6108 - val_iou: 0.3892\n",
      "Epoch 86/200\n",
      "2000/2000 [==============================] - 75s 38ms/step - loss: 0.5514 - iou: 0.4486 - val_loss: 0.6106 - val_iou: 0.3894\n",
      "Epoch 87/200\n",
      " 624/2000 [========>.....................] - ETA: 46s - loss: 0.5689 - iou: 0.43112000/2000 [==============================] - 75s 38ms/step - loss: 0.5511 - iou: 0.4489 - val_loss: 0.6106 - val_iou: 0.3894\n",
      "Epoch 88/200\n",
      "2000/2000 [==============================] - 75s 38ms/step - loss: 0.5509 - iou: 0.4491 - val_loss: 0.6110 - val_iou: 0.3890\n",
      "Epoch 89/200\n",
      "2000/2000 [==============================] - 75s 38ms/step - loss: 0.5508 - iou: 0.4492 - val_loss: 0.6110 - val_iou: 0.3890\n",
      "Epoch 90/200\n",
      " 624/2000 [========>.....................] - ETA: 45s - loss: 0.5557 - iou: 0.44432000/2000 [==============================] - 74s 37ms/step - loss: 0.5511 - iou: 0.4489 - val_loss: 0.6106 - val_iou: 0.3894\n",
      "Epoch 91/200\n",
      "2000/2000 [==============================] - 75s 37ms/step - loss: 0.5508 - iou: 0.4492 - val_loss: 0.6109 - val_iou: 0.3891\n",
      "Epoch 92/200\n",
      "2000/2000 [==============================] - 75s 37ms/step - loss: 0.5510 - iou: 0.4490 - val_loss: 0.6110 - val_iou: 0.3890\n",
      "Epoch 93/200\n",
      " 624/2000 [========>.....................] - ETA: 45s - loss: 0.5694 - iou: 0.43062000/2000 [==============================] - 75s 37ms/step - loss: 0.5508 - iou: 0.4492 - val_loss: 0.6106 - val_iou: 0.3894\n",
      "Epoch 94/200\n",
      "2000/2000 [==============================] - 75s 37ms/step - loss: 0.5509 - iou: 0.4491 - val_loss: 0.6105 - val_iou: 0.3895\n",
      "Epoch 95/200\n",
      "2000/2000 [==============================] - 75s 37ms/step - loss: 0.5507 - iou: 0.4493 - val_loss: 0.6113 - val_iou: 0.3887\n",
      "Epoch 96/200\n",
      " 624/2000 [========>.....................] - ETA: 45s - loss: 0.5603 - iou: 0.43972000/2000 [==============================] - 75s 38ms/step - loss: 0.5507 - iou: 0.4493 - val_loss: 0.6113 - val_iou: 0.3887\n",
      "Epoch 97/200\n",
      "2000/2000 [==============================] - 75s 37ms/step - loss: 0.5508 - iou: 0.4492 - val_loss: 0.6111 - val_iou: 0.3889\n",
      "Epoch 98/200\n",
      "2000/2000 [==============================] - 75s 37ms/step - loss: 0.5507 - iou: 0.4493 - val_loss: 0.6108 - val_iou: 0.3892\n",
      "Epoch 99/200\n",
      " 624/2000 [========>.....................] - ETA: 45s - loss: 0.5551 - iou: 0.44492000/2000 [==============================] - 75s 38ms/step - loss: 0.5506 - iou: 0.4494 - val_loss: 0.6111 - val_iou: 0.3889\n",
      "Epoch 100/200\n",
      "2000/2000 [==============================] - 75s 37ms/step - loss: 0.5506 - iou: 0.4494 - val_loss: 0.6107 - val_iou: 0.3893\n",
      "Epoch 101/200\n",
      "2000/2000 [==============================] - 75s 38ms/step - loss: 0.5506 - iou: 0.4494 - val_loss: 0.6111 - val_iou: 0.3889\n",
      "Epoch 102/200\n"
     ]
    },
    {
     "name": "stdout",
     "output_type": "stream",
     "text": [
      " 608/2000 [========>.....................] - ETA: 46s - loss: 0.5435 - iou: 0.45652000/2000 [==============================] - 75s 38ms/step - loss: 0.5506 - iou: 0.4494 - val_loss: 0.6109 - val_iou: 0.3891\n",
      "Epoch 103/200\n",
      "2000/2000 [==============================] - 75s 38ms/step - loss: 0.5509 - iou: 0.4491 - val_loss: 0.6303 - val_iou: 0.3697\n",
      "Epoch 104/200\n",
      "2000/2000 [==============================] - 75s 38ms/step - loss: 0.5508 - iou: 0.4492 - val_loss: 0.6109 - val_iou: 0.3891\n",
      "Epoch 105/200\n",
      " 608/2000 [========>.....................] - ETA: 46s - loss: 0.5582 - iou: 0.44182000/2000 [==============================] - 75s 38ms/step - loss: 0.5505 - iou: 0.4495 - val_loss: 0.6107 - val_iou: 0.3893\n",
      "Epoch 106/200\n",
      "2000/2000 [==============================] - 75s 38ms/step - loss: 0.5506 - iou: 0.4494 - val_loss: 0.6104 - val_iou: 0.3896\n",
      "Epoch 107/200\n",
      "2000/2000 [==============================] - 75s 38ms/step - loss: 0.5507 - iou: 0.4493 - val_loss: 0.6110 - val_iou: 0.3890\n",
      "Epoch 108/200\n",
      " 608/2000 [========>.....................] - ETA: 46s - loss: 0.5495 - iou: 0.45052000/2000 [==============================] - 75s 37ms/step - loss: 0.5507 - iou: 0.4493 - val_loss: 0.6107 - val_iou: 0.3893\n",
      "Epoch 109/200\n",
      "2000/2000 [==============================] - 76s 38ms/step - loss: 0.5505 - iou: 0.4495 - val_loss: 0.6110 - val_iou: 0.3890\n",
      "Epoch 110/200\n",
      "2000/2000 [==============================] - 75s 37ms/step - loss: 0.5505 - iou: 0.4495 - val_loss: 0.6113 - val_iou: 0.3887\n",
      "Epoch 111/200\n",
      " 608/2000 [========>.....................] - ETA: 46s - loss: 0.5532 - iou: 0.44682000/2000 [==============================] - 75s 37ms/step - loss: 0.5505 - iou: 0.4495 - val_loss: 0.6108 - val_iou: 0.3892\n",
      "Epoch 112/200\n",
      "2000/2000 [==============================] - 75s 37ms/step - loss: 0.5505 - iou: 0.4495 - val_loss: 0.6108 - val_iou: 0.3892\n",
      "Epoch 113/200\n",
      "2000/2000 [==============================] - 75s 37ms/step - loss: 0.5505 - iou: 0.4495 - val_loss: 0.6115 - val_iou: 0.3885\n",
      "Epoch 114/200\n",
      " 608/2000 [========>.....................] - ETA: 46s - loss: 0.5435 - iou: 0.45652000/2000 [==============================] - 75s 38ms/step - loss: 0.5505 - iou: 0.4495 - val_loss: 0.6109 - val_iou: 0.3891\n",
      "Epoch 115/200\n",
      "2000/2000 [==============================] - 75s 38ms/step - loss: 0.5506 - iou: 0.4494 - val_loss: 0.6114 - val_iou: 0.3886\n",
      "Epoch 116/200\n",
      "2000/2000 [==============================] - 75s 37ms/step - loss: 0.5503 - iou: 0.4497 - val_loss: 0.6116 - val_iou: 0.3884\n",
      "Epoch 117/200\n",
      " 608/2000 [========>.....................] - ETA: 46s - loss: 0.5658 - iou: 0.43422000/2000 [==============================] - 75s 38ms/step - loss: 0.5503 - iou: 0.4497 - val_loss: 0.6111 - val_iou: 0.3889\n",
      "Epoch 118/200\n",
      "2000/2000 [==============================] - 75s 37ms/step - loss: 0.5505 - iou: 0.4495 - val_loss: 0.6113 - val_iou: 0.3887\n",
      "Epoch 119/200\n",
      "2000/2000 [==============================] - 75s 38ms/step - loss: 0.5503 - iou: 0.4497 - val_loss: 0.6109 - val_iou: 0.3891\n",
      "Epoch 120/200\n",
      " 608/2000 [========>.....................] - ETA: 46s - loss: 0.5580 - iou: 0.44202000/2000 [==============================] - 75s 38ms/step - loss: 0.5503 - iou: 0.4497 - val_loss: 0.6108 - val_iou: 0.3892\n",
      "Epoch 121/200\n",
      "2000/2000 [==============================] - 75s 38ms/step - loss: 0.5502 - iou: 0.4498 - val_loss: 0.6119 - val_iou: 0.3881\n",
      "Epoch 122/200\n",
      "2000/2000 [==============================] - 75s 38ms/step - loss: 0.5503 - iou: 0.4497 - val_loss: 0.6115 - val_iou: 0.3885\n",
      "Epoch 123/200\n",
      " 608/2000 [========>.....................] - ETA: 46s - loss: 0.5515 - iou: 0.44852000/2000 [==============================] - 75s 37ms/step - loss: 0.5503 - iou: 0.4497 - val_loss: 0.6113 - val_iou: 0.3887\n",
      "Epoch 124/200\n",
      "2000/2000 [==============================] - 75s 37ms/step - loss: 0.5502 - iou: 0.4498 - val_loss: 0.6113 - val_iou: 0.3887\n",
      "Epoch 125/200\n",
      "2000/2000 [==============================] - 75s 37ms/step - loss: 0.5503 - iou: 0.4497 - val_loss: 0.6110 - val_iou: 0.3890\n",
      "Epoch 126/200\n",
      " 608/2000 [========>.....................] - ETA: 46s - loss: 0.5524 - iou: 0.44762000/2000 [==============================] - 75s 37ms/step - loss: 0.5502 - iou: 0.4498 - val_loss: 0.6111 - val_iou: 0.3889\n",
      "Epoch 127/200\n",
      "2000/2000 [==============================] - 75s 37ms/step - loss: 0.5504 - iou: 0.4496 - val_loss: 0.6111 - val_iou: 0.3889\n",
      "Epoch 128/200\n",
      "2000/2000 [==============================] - 74s 37ms/step - loss: 0.5506 - iou: 0.4494 - val_loss: 0.6124 - val_iou: 0.3876\n",
      "Epoch 129/200\n",
      " 608/2000 [========>.....................] - ETA: 46s - loss: 0.5478 - iou: 0.45222000/2000 [==============================] - 74s 37ms/step - loss: 0.5504 - iou: 0.4496 - val_loss: 0.6108 - val_iou: 0.3892\n",
      "Epoch 130/200\n",
      "2000/2000 [==============================] - 74s 37ms/step - loss: 0.5504 - iou: 0.4496 - val_loss: 0.6108 - val_iou: 0.3892\n",
      "Epoch 131/200\n",
      "2000/2000 [==============================] - 75s 37ms/step - loss: 0.5502 - iou: 0.4498 - val_loss: 0.6117 - val_iou: 0.3883\n",
      "Epoch 132/200\n",
      " 608/2000 [========>.....................] - ETA: 46s - loss: 0.5290 - iou: 0.47102000/2000 [==============================] - 75s 37ms/step - loss: 0.5503 - iou: 0.4497 - val_loss: 0.6114 - val_iou: 0.3886\n",
      "Epoch 133/200\n",
      "2000/2000 [==============================] - 75s 37ms/step - loss: 0.5502 - iou: 0.4498 - val_loss: 0.6108 - val_iou: 0.3892\n",
      "Epoch 134/200\n",
      "2000/2000 [==============================] - 75s 37ms/step - loss: 0.5501 - iou: 0.4499 - val_loss: 0.6114 - val_iou: 0.3886\n",
      "Epoch 135/200\n",
      " 608/2000 [========>.....................] - ETA: 46s - loss: 0.5401 - iou: 0.45992000/2000 [==============================] - 75s 37ms/step - loss: 0.5500 - iou: 0.4500 - val_loss: 0.6117 - val_iou: 0.3883\n",
      "Epoch 136/200\n",
      "2000/2000 [==============================] - 75s 37ms/step - loss: 0.5500 - iou: 0.4500 - val_loss: 0.6110 - val_iou: 0.3890\n",
      "Epoch 137/200\n",
      "2000/2000 [==============================] - 75s 38ms/step - loss: 0.5501 - iou: 0.4499 - val_loss: 0.6139 - val_iou: 0.3861\n",
      "Epoch 138/200\n",
      " 608/2000 [========>.....................] - ETA: 46s - loss: 0.5411 - iou: 0.45892000/2000 [==============================] - 75s 37ms/step - loss: 0.5502 - iou: 0.4498 - val_loss: 0.6114 - val_iou: 0.3886\n",
      "Epoch 139/200\n",
      "2000/2000 [==============================] - 74s 37ms/step - loss: 0.5501 - iou: 0.4499 - val_loss: 0.6117 - val_iou: 0.3883\n",
      "Epoch 140/200\n",
      "2000/2000 [==============================] - 75s 37ms/step - loss: 0.5501 - iou: 0.4499 - val_loss: 0.6123 - val_iou: 0.3877\n",
      "Epoch 141/200\n",
      " 608/2000 [========>.....................] - ETA: 46s - loss: 0.5401 - iou: 0.45992000/2000 [==============================] - 74s 37ms/step - loss: 0.5501 - iou: 0.4499 - val_loss: 0.6108 - val_iou: 0.3892\n",
      "Epoch 142/200\n",
      "2000/2000 [==============================] - 74s 37ms/step - loss: 0.5503 - iou: 0.4497 - val_loss: 0.6110 - val_iou: 0.3890\n",
      "Epoch 143/200\n",
      "2000/2000 [==============================] - 75s 37ms/step - loss: 0.5500 - iou: 0.4500 - val_loss: 0.6112 - val_iou: 0.3888\n",
      "Epoch 144/200\n",
      " 608/2000 [========>.....................] - ETA: 46s - loss: 0.5496 - iou: 0.45042000/2000 [==============================] - 75s 37ms/step - loss: 0.5501 - iou: 0.4499 - val_loss: 0.6110 - val_iou: 0.3890\n",
      "Epoch 145/200\n",
      "2000/2000 [==============================] - 75s 37ms/step - loss: 0.5502 - iou: 0.4498 - val_loss: 0.6116 - val_iou: 0.3884\n",
      "Epoch 146/200\n",
      "2000/2000 [==============================] - 75s 37ms/step - loss: 0.5500 - iou: 0.4500 - val_loss: 0.6115 - val_iou: 0.3885\n",
      "Epoch 147/200\n",
      " 608/2000 [========>.....................] - ETA: 46s - loss: 0.5493 - iou: 0.45072000/2000 [==============================] - 75s 37ms/step - loss: 0.5499 - iou: 0.4501 - val_loss: 0.6114 - val_iou: 0.3886\n",
      "Epoch 148/200\n",
      "2000/2000 [==============================] - 75s 37ms/step - loss: 0.5502 - iou: 0.4498 - val_loss: 0.6110 - val_iou: 0.3890\n",
      "Epoch 149/200\n",
      "2000/2000 [==============================] - 75s 37ms/step - loss: 0.5499 - iou: 0.4501 - val_loss: 0.6113 - val_iou: 0.3887\n",
      "Epoch 150/200\n",
      " 608/2000 [========>.....................] - ETA: 46s - loss: 0.5512 - iou: 0.44882000/2000 [==============================] - 75s 38ms/step - loss: 0.5499 - iou: 0.4501 - val_loss: 0.6112 - val_iou: 0.3888\n",
      "Epoch 151/200\n",
      "2000/2000 [==============================] - 75s 37ms/step - loss: 0.5499 - iou: 0.4501 - val_loss: 0.6113 - val_iou: 0.3887\n",
      "Epoch 152/200\n",
      "2000/2000 [==============================] - 75s 37ms/step - loss: 0.5499 - iou: 0.4501 - val_loss: 0.6119 - val_iou: 0.3881\n",
      "Epoch 153/200\n"
     ]
    },
    {
     "name": "stdout",
     "output_type": "stream",
     "text": [
      " 608/2000 [========>.....................] - ETA: 46s - loss: 0.5418 - iou: 0.45822000/2000 [==============================] - 75s 38ms/step - loss: 0.5498 - iou: 0.4502 - val_loss: 0.6115 - val_iou: 0.3885\n",
      "Epoch 154/200\n",
      "2000/2000 [==============================] - 75s 38ms/step - loss: 0.5499 - iou: 0.4501 - val_loss: 0.6116 - val_iou: 0.3884\n",
      "Epoch 155/200\n",
      "2000/2000 [==============================] - 75s 37ms/step - loss: 0.5499 - iou: 0.4501 - val_loss: 0.6118 - val_iou: 0.3882\n",
      "Epoch 156/200\n",
      " 608/2000 [========>.....................] - ETA: 46s - loss: 0.5360 - iou: 0.46402000/2000 [==============================] - 75s 37ms/step - loss: 0.5498 - iou: 0.4502 - val_loss: 0.6120 - val_iou: 0.3880\n",
      "Epoch 157/200\n",
      "2000/2000 [==============================] - 75s 37ms/step - loss: 0.5498 - iou: 0.4502 - val_loss: 0.6124 - val_iou: 0.3876\n",
      "Epoch 158/200\n",
      "2000/2000 [==============================] - 74s 37ms/step - loss: 0.5497 - iou: 0.4503 - val_loss: 0.6115 - val_iou: 0.3885\n",
      "Epoch 159/200\n",
      " 608/2000 [========>.....................] - ETA: 46s - loss: 0.5430 - iou: 0.45702000/2000 [==============================] - 74s 37ms/step - loss: 0.5497 - iou: 0.4503 - val_loss: 0.6116 - val_iou: 0.3884\n",
      "Epoch 160/200\n",
      "2000/2000 [==============================] - 74s 37ms/step - loss: 0.5497 - iou: 0.4503 - val_loss: 0.6114 - val_iou: 0.3886\n",
      "Epoch 161/200\n",
      "2000/2000 [==============================] - 75s 37ms/step - loss: 0.5500 - iou: 0.4500 - val_loss: 0.6118 - val_iou: 0.3882\n",
      "Epoch 162/200\n",
      " 608/2000 [========>.....................] - ETA: 46s - loss: 0.5365 - iou: 0.46352000/2000 [==============================] - 75s 37ms/step - loss: 0.5499 - iou: 0.4501 - val_loss: 0.6121 - val_iou: 0.3879\n",
      "Epoch 163/200\n",
      "2000/2000 [==============================] - 75s 37ms/step - loss: 0.5499 - iou: 0.4501 - val_loss: 0.6113 - val_iou: 0.3887\n",
      "Epoch 164/200\n",
      "2000/2000 [==============================] - 75s 37ms/step - loss: 0.5498 - iou: 0.4502 - val_loss: 0.6124 - val_iou: 0.3876\n",
      "Epoch 165/200\n",
      " 608/2000 [========>.....................] - ETA: 46s - loss: 0.5451 - iou: 0.45492000/2000 [==============================] - 75s 37ms/step - loss: 0.5498 - iou: 0.4502 - val_loss: 0.6114 - val_iou: 0.3886\n",
      "Epoch 166/200\n",
      "2000/2000 [==============================] - 75s 37ms/step - loss: 0.5498 - iou: 0.4502 - val_loss: 0.6117 - val_iou: 0.3883\n",
      "Epoch 167/200\n",
      "2000/2000 [==============================] - 75s 37ms/step - loss: 0.5498 - iou: 0.4502 - val_loss: 0.6115 - val_iou: 0.3885\n",
      "Epoch 168/200\n",
      " 608/2000 [========>.....................] - ETA: 46s - loss: 0.5626 - iou: 0.43742000/2000 [==============================] - 76s 38ms/step - loss: 0.5498 - iou: 0.4502 - val_loss: 0.6129 - val_iou: 0.3871\n",
      "Epoch 169/200\n",
      "2000/2000 [==============================] - 75s 38ms/step - loss: 0.5499 - iou: 0.4501 - val_loss: 0.6112 - val_iou: 0.3888\n",
      "Epoch 170/200\n",
      "2000/2000 [==============================] - 75s 37ms/step - loss: 0.5498 - iou: 0.4502 - val_loss: 0.6118 - val_iou: 0.3882\n",
      "Epoch 171/200\n",
      " 608/2000 [========>.....................] - ETA: 46s - loss: 0.5554 - iou: 0.44462000/2000 [==============================] - 75s 37ms/step - loss: 0.5498 - iou: 0.4502 - val_loss: 0.6117 - val_iou: 0.3883\n",
      "Epoch 172/200\n",
      "2000/2000 [==============================] - 75s 37ms/step - loss: 0.5498 - iou: 0.4502 - val_loss: 0.6112 - val_iou: 0.3888\n",
      "Epoch 173/200\n",
      "2000/2000 [==============================] - 75s 37ms/step - loss: 0.5496 - iou: 0.4504 - val_loss: 0.6118 - val_iou: 0.3882\n",
      "Epoch 174/200\n",
      " 608/2000 [========>.....................] - ETA: 46s - loss: 0.5586 - iou: 0.44142000/2000 [==============================] - 75s 37ms/step - loss: 0.5496 - iou: 0.4504 - val_loss: 0.6111 - val_iou: 0.3889\n",
      "Epoch 175/200\n",
      "2000/2000 [==============================] - 75s 37ms/step - loss: 0.5497 - iou: 0.4503 - val_loss: 0.6123 - val_iou: 0.3877\n",
      "Epoch 176/200\n",
      "2000/2000 [==============================] - 75s 38ms/step - loss: 0.5498 - iou: 0.4502 - val_loss: 0.6118 - val_iou: 0.3882\n",
      "Epoch 177/200\n",
      " 608/2000 [========>.....................] - ETA: 46s - loss: 0.5515 - iou: 0.44852000/2000 [==============================] - 75s 37ms/step - loss: 0.5497 - iou: 0.4503 - val_loss: 0.6109 - val_iou: 0.3891\n",
      "Epoch 178/200\n",
      "2000/2000 [==============================] - 75s 37ms/step - loss: 0.5496 - iou: 0.4504 - val_loss: 0.6121 - val_iou: 0.3879\n",
      "Epoch 179/200\n",
      "2000/2000 [==============================] - 75s 37ms/step - loss: 0.5495 - iou: 0.4505 - val_loss: 0.6112 - val_iou: 0.3888\n",
      "Epoch 180/200\n",
      " 608/2000 [========>.....................] - ETA: 46s - loss: 0.5463 - iou: 0.45372000/2000 [==============================] - 75s 37ms/step - loss: 0.5496 - iou: 0.4504 - val_loss: 0.6114 - val_iou: 0.3886\n",
      "Epoch 181/200\n",
      "2000/2000 [==============================] - 75s 37ms/step - loss: 0.5496 - iou: 0.4504 - val_loss: 0.6128 - val_iou: 0.3872\n",
      "Epoch 182/200\n",
      "2000/2000 [==============================] - 75s 37ms/step - loss: 0.5495 - iou: 0.4505 - val_loss: 0.6114 - val_iou: 0.3886\n",
      "Epoch 183/200\n",
      " 608/2000 [========>.....................] - ETA: 46s - loss: 0.5453 - iou: 0.45472000/2000 [==============================] - 75s 37ms/step - loss: 0.5495 - iou: 0.4505 - val_loss: 0.6115 - val_iou: 0.3885\n",
      "Epoch 184/200\n",
      "2000/2000 [==============================] - 74s 37ms/step - loss: 0.5496 - iou: 0.4504 - val_loss: 0.6119 - val_iou: 0.3881\n",
      "Epoch 185/200\n",
      "2000/2000 [==============================] - 75s 37ms/step - loss: 0.5495 - iou: 0.4505 - val_loss: 0.6119 - val_iou: 0.3881\n",
      "Epoch 186/200\n",
      " 608/2000 [========>.....................] - ETA: 46s - loss: 0.5533 - iou: 0.44672000/2000 [==============================] - 74s 37ms/step - loss: 0.5497 - iou: 0.4503 - val_loss: 0.6118 - val_iou: 0.3882\n",
      "Epoch 187/200\n",
      "2000/2000 [==============================] - 74s 37ms/step - loss: 0.5496 - iou: 0.4504 - val_loss: 0.6115 - val_iou: 0.3885\n",
      "Epoch 188/200\n",
      "2000/2000 [==============================] - 74s 37ms/step - loss: 0.5495 - iou: 0.4505 - val_loss: 0.6112 - val_iou: 0.3888\n",
      "Epoch 189/200\n",
      " 608/2000 [========>.....................] - ETA: 46s - loss: 0.5577 - iou: 0.44232000/2000 [==============================] - 75s 37ms/step - loss: 0.5494 - iou: 0.4506 - val_loss: 0.6122 - val_iou: 0.3878\n",
      "Epoch 190/200\n",
      "2000/2000 [==============================] - 75s 37ms/step - loss: 0.5494 - iou: 0.4506 - val_loss: 0.6123 - val_iou: 0.3877\n",
      "Epoch 191/200\n",
      "2000/2000 [==============================] - 75s 37ms/step - loss: 0.5495 - iou: 0.4505 - val_loss: 0.6139 - val_iou: 0.3861\n",
      "Epoch 192/200\n",
      " 608/2000 [========>.....................] - ETA: 46s - loss: 0.5510 - iou: 0.44902000/2000 [==============================] - 75s 38ms/step - loss: 0.5502 - iou: 0.4498 - val_loss: 0.6115 - val_iou: 0.3885\n",
      "Epoch 193/200\n",
      "2000/2000 [==============================] - 75s 37ms/step - loss: 0.5497 - iou: 0.4503 - val_loss: 0.6109 - val_iou: 0.3891\n",
      "Epoch 194/200\n",
      "2000/2000 [==============================] - 75s 37ms/step - loss: 0.5496 - iou: 0.4504 - val_loss: 0.6124 - val_iou: 0.3876\n",
      "Epoch 195/200\n",
      " 608/2000 [========>.....................] - ETA: 46s - loss: 0.5621 - iou: 0.43792000/2000 [==============================] - 74s 37ms/step - loss: 0.5498 - iou: 0.4502 - val_loss: 0.6110 - val_iou: 0.3890\n",
      "Epoch 196/200\n",
      "2000/2000 [==============================] - 75s 37ms/step - loss: 0.5495 - iou: 0.4505 - val_loss: 0.6111 - val_iou: 0.3889\n",
      "Epoch 197/200\n",
      "2000/2000 [==============================] - 74s 37ms/step - loss: 0.5497 - iou: 0.4503 - val_loss: 0.6123 - val_iou: 0.3877\n",
      "Epoch 198/200\n",
      " 608/2000 [========>.....................] - ETA: 46s - loss: 0.5506 - iou: 0.44942000/2000 [==============================] - 75s 38ms/step - loss: 0.5495 - iou: 0.4505 - val_loss: 0.6120 - val_iou: 0.3880\n",
      "Epoch 199/200\n",
      "2000/2000 [==============================] - 75s 37ms/step - loss: 0.5494 - iou: 0.4506 - val_loss: 0.6111 - val_iou: 0.3889\n",
      "Epoch 200/200\n",
      "2000/2000 [==============================] - 75s 38ms/step - loss: 0.5494 - iou: 0.4506 - val_loss: 0.6121 - val_iou: 0.3879\n",
      "600/600 [==============================] - 8s 13ms/step\n",
      "Accuracy:  0.38793065865834553\n"
     ]
    }
   ],
   "source": [
    "model_seg()"
   ]
  },
  {
   "cell_type": "code",
   "execution_count": 36,
   "metadata": {
    "colab": {
     "autoexec": {
      "startup": false,
      "wait_interval": 0
     },
     "base_uri": "https://localhost:8080/",
     "height": 70
    },
    "colab_type": "code",
    "executionInfo": {
     "elapsed": 9438,
     "status": "ok",
     "timestamp": 1526798149909,
     "user": {
      "displayName": "Manideep Kolla",
      "photoUrl": "//lh4.googleusercontent.com/-AhklfYPJ2yU/AAAAAAAAAAI/AAAAAAAAMLU/1G-c09ybTmY/s50-c-k-no/photo.jpg",
      "userId": "117392830770812166897"
     },
     "user_tz": -330
    },
    "id": "s3ZCJatJekS8",
    "outputId": "96330358-cf48-48b9-8e9d-b28ed08d927f"
   },
   "outputs": [
    {
     "name": "stdout",
     "output_type": "stream",
     "text": [
      "150/150 [==============================] - 3s 18ms/step\n",
      "150/150 [==============================] - 2s 16ms/step\n",
      "Accuracy:  0.49426538586616514\n"
     ]
    }
   ],
   "source": [
    "  (x_train, y_train), (x_test, y_test), (x_val, y_val) = (X_train, Y_train), (X_test, Y_test), (X_val, Y_val)\n",
    "  # Convolution Layers (BatchNorm after non-linear activation)\n",
    "  \n",
    "  img_input = Input(shape= (192, 256, 3))\n",
    "  x = Conv2D(16, (3, 3), padding='same', name='conv1')(img_input)\n",
    "  x = BatchNormalization(name='bn1')(x)\n",
    "  x = Activation('relu')(x)\n",
    "  x = Conv2D(32, (3, 3), padding='same', name='conv2')(x)\n",
    "  x = BatchNormalization(name='bn2')(x)\n",
    "  x = Activation('relu')(x)\n",
    "  x = MaxPooling2D()(x)\n",
    "  x = Conv2D(64, (3, 3), padding='same', name='conv3')(x)\n",
    "  x = BatchNormalization(name='bn3')(x)\n",
    "  x = Activation('relu')(x)\n",
    "  x = Conv2D(64, (3, 3), padding='same', name='conv4')(x)\n",
    "  x = BatchNormalization(name='bn4')(x)\n",
    "  x = Activation('relu')(x)\n",
    "  x = MaxPooling2D()(x)\n",
    "  x = Conv2D(128, (3, 3), padding='same', name='conv5')(x)\n",
    "  x = BatchNormalization(name='bn5')(x)\n",
    "  x = Activation('relu')(x)\n",
    "  x = Conv2D(128, (4, 4), padding='same', name='conv6')(x)\n",
    "  x = BatchNormalization(name='bn6')(x)\n",
    "  x = Activation('relu')(x)\n",
    "  x = MaxPooling2D()(x)\n",
    "  x = Conv2D(256, (3, 3), padding='same', name='conv7')(x)\n",
    "  x = BatchNormalization(name='bn7')(x)\n",
    "  x = Dropout(0.5)(x)\n",
    "  x = Activation('relu')(x)\n",
    "  x = Conv2D(256, (3, 3), padding='same', name='conv8')(x)\n",
    "  x = BatchNormalization(name='bn8')(x)\n",
    "  x = Activation('relu')(x)\n",
    "  x = MaxPooling2D()(x)\n",
    "  x = Conv2D(512, (3, 3), padding='same', name='conv9')(x)\n",
    "  x = BatchNormalization(name='bn9')(x)\n",
    "  x = Activation('relu')(x)\n",
    "  x = Dense(1024, activation = 'relu', name='fc1')(x)\n",
    "  x = Dense(1024, activation = 'relu', name='fc2')(x)\n",
    "  \n",
    "  # Deconvolution Layers (BatchNorm after non-linear activation)\n",
    "  \n",
    "  x = Conv2DTranspose(256, (3, 3), padding='same', name='deconv1')(x)\n",
    "  x = BatchNormalization(name='bn19')(x)\n",
    "  x = Activation('relu')(x)\n",
    "  x = UpSampling2D()(x)\n",
    "  x = Conv2DTranspose(256, (3, 3), padding='same', name='deconv2')(x)\n",
    "  x = BatchNormalization(name='bn12')(x)\n",
    "  x = Activation('relu')(x)\n",
    "  x = Conv2DTranspose(128, (3, 3), padding='same', name='deconv3')(x)\n",
    "  x = BatchNormalization(name='bn13')(x)\n",
    "  x = Activation('relu')(x)\n",
    "  x = UpSampling2D()(x)\n",
    "  x = Conv2DTranspose(128, (4, 4), padding='same', name='deconv4')(x)\n",
    "  x = BatchNormalization(name='bn14')(x)\n",
    "  x = Activation('relu')(x)\n",
    "  x = Conv2DTranspose(128, (3, 3), padding='same', name='deconv5')(x)\n",
    "  x = BatchNormalization(name='bn15')(x)\n",
    "  x = Activation('relu')(x)\n",
    "  x = UpSampling2D()(x)\n",
    "  x = Conv2DTranspose(64, (3, 3), padding='same', name='deconv6')(x)\n",
    "  x = BatchNormalization(name='bn16')(x)\n",
    "  x = Activation('relu')(x)\n",
    "  x = Conv2DTranspose(32, (3, 3), padding='same', name='deconv7')(x)\n",
    "  x = BatchNormalization(name='bn20')(x)\n",
    "  x = Activation('relu')(x)\n",
    "  x = UpSampling2D()(x)\n",
    "  x = Conv2DTranspose(16, (3, 3), padding='same', name='deconv8')(x)\n",
    "  x = BatchNormalization(name='bn17')(x)\n",
    "  x = Dropout(0.5)(x)\n",
    "  x = Activation('relu')(x)\n",
    "  x = Conv2DTranspose(1, (3, 3), padding='same', name='deconv9')(x)\n",
    "  x = BatchNormalization(name='bn18')(x)\n",
    "  x = Activation('sigmoid')(x)\n",
    "  pred = Reshape((192,256))(x)\n",
    "  \n",
    "  model = Model(inputs=img_input, outputs=pred)\n",
    "  \n",
    "  model.compile(optimizer= Adam(lr = 0.003), loss= [jaccard_distance], metrics=[iou])\n",
    "  model.load_weights(\"model.h5\")\n",
    "  predictions_valid = model.predict(x_val, batch_size=16, verbose=1)\n",
    "  accuracy = model.evaluate(x=x_val,y=y_val,batch_size=16)\n",
    "  print(\"Accuracy: \",accuracy[1])"
   ]
  },
  {
   "cell_type": "code",
   "execution_count": 0,
   "metadata": {
    "colab": {
     "autoexec": {
      "startup": false,
      "wait_interval": 0
     }
    },
    "colab_type": "code",
    "id": "3iO1w1gdcNXR"
   },
   "outputs": [],
   "source": [
    "index = 45\n",
    "predict_input = x_val[index]\n",
    "ground_truth = y_val[index]"
   ]
  },
  {
   "cell_type": "code",
   "execution_count": 0,
   "metadata": {
    "colab": {
     "autoexec": {
      "startup": false,
      "wait_interval": 0
     }
    },
    "colab_type": "code",
    "id": "D1F3mjdab6nP"
   },
   "outputs": [],
   "source": [
    "predictions =model.predict(predict_input.reshape(1,192,256,3), batch_size=1)\n",
    "prediction = predictions.reshape(192, 256)"
   ]
  },
  {
   "cell_type": "code",
   "execution_count": 68,
   "metadata": {
    "colab": {
     "autoexec": {
      "startup": false,
      "wait_interval": 0
     },
     "base_uri": "https://localhost:8080/",
     "height": 561
    },
    "colab_type": "code",
    "executionInfo": {
     "elapsed": 1307,
     "status": "ok",
     "timestamp": 1526801717813,
     "user": {
      "displayName": "Manideep Kolla",
      "photoUrl": "//lh4.googleusercontent.com/-AhklfYPJ2yU/AAAAAAAAAAI/AAAAAAAAMLU/1G-c09ybTmY/s50-c-k-no/photo.jpg",
      "userId": "117392830770812166897"
     },
     "user_tz": -330
    },
    "id": "AuEYLNmoSlYc",
    "outputId": "f55716cb-0b99-4012-b6cf-4c9c7ae3f85e"
   },
   "outputs": [
    {
     "data": {
      "text/plain": [
       "Text(0.5,1,'Ground Turth')"
      ]
     },
     "execution_count": 68,
     "metadata": {
      "tags": []
     },
     "output_type": "execute_result"
    },
    {
     "data": {
      "image/png": "[encoded data removed]",
      "text/plain": [
       "<matplotlib.figure.Figure at 0x7f346fc280f0>"
      ]
     },
     "metadata": {
      "tags": []
     },
     "output_type": "display_data"
    },
    {
     "data": {
      "image/png": "[encoded data removed]",
      "text/plain": [
       "<matplotlib.figure.Figure at 0x7f346fcc4400>"
      ]
     },
     "metadata": {
      "tags": []
     },
     "output_type": "display_data"
    }
   ],
   "source": [
    "#index = 45\n",
    "plt.figure()\n",
    "plt.imshow(prediction)\n",
    "plt.title('Predicted')\n",
    "plt.figure()\n",
    "plt.imshow(ground_truth)\n",
    "plt.title('Ground Turth')"
   ]
  },
  {
   "cell_type": "code",
   "execution_count": 0,
   "metadata": {
    "colab": {
     "autoexec": {
      "startup": false,
      "wait_interval": 0
     }
    },
    "colab_type": "code",
    "id": "6EFLQ9oOzKua"
   },
   "outputs": [],
   "source": []
  }
 ],
 "metadata": {
  "accelerator": "GPU",
  "colab": {
   "collapsed_sections": [],
   "default_view": {},
   "name": "melanoma_segmentation1.ipynb",
   "provenance": [],
   "version": "0.3.2",
   "views": {}
  },
  "kernelspec": {
   "display_name": "Python 3",
   "language": "python",
   "name": "python3"
  },
  "language_info": {
   "codemirror_mode": {
    "name": "ipython",
    "version": 3
   },
   "file_extension": ".py",
   "mimetype": "text/x-python",
   "name": "python",
   "nbconvert_exporter": "python",
   "pygments_lexer": "ipython3",
   "version": "3.6.5"
  }
 },
 "nbformat": 4,
 "nbformat_minor": 1
}
